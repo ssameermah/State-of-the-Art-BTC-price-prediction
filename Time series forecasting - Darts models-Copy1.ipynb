{
 "cells": [
  {
   "cell_type": "markdown",
   "id": "2c02fd89",
   "metadata": {},
   "source": [
    "# Time series forecasting using the darts library"
   ]
  },
  {
   "cell_type": "markdown",
   "id": "f5a62844",
   "metadata": {},
   "source": [
    "In this notebook we will forecast the price of bitcoin using temporal fusion transformer, temporal convolution networks and the NBEATS model. Here all implementation is done using the darts library, in easy to use library which works a lot like scikit learn.\n",
    "\n",
    "For more details, I encourage you to see the documentation - https://unit8co.github.io/darts/README.html"
   ]
  },
  {
   "cell_type": "markdown",
   "id": "b0268d5d",
   "metadata": {},
   "source": [
    "**Team:**\n",
    "* Sameer Mahajan\n",
    "* Geethika Marru\n",
    "* Harsh Deokuliar\n",
    "\n",
    "**Course:** IE-575 – Predictive Analytics (Spring II, 2022)"
   ]
  },
  {
   "cell_type": "code",
   "execution_count": 1,
   "id": "4f11095e",
   "metadata": {},
   "outputs": [
    {
     "name": "stderr",
     "output_type": "stream",
     "text": [
      "2022-04-27 17:43:19 prophet.plot ERROR: Importing plotly failed. Interactive plots will not work.\n"
     ]
    }
   ],
   "source": [
    "#importing necessary libraries\n",
    "%matplotlib inline\n",
    "import matplotlib.pyplot as plt\n",
    "\n",
    "import numpy as np\n",
    "import pandas as pd\n",
    "\n",
    "from darts import TimeSeries\n",
    "from darts.dataprocessing.transformers import Scaler\n",
    "from darts.models import TFTModel,NBEATSModel, TCNModel,Prophet, NHiTS,RNNModel,TransformerModel\n",
    "from darts.metrics import mape, rmse, r2_score,mae\n",
    "from darts.utils.statistics import check_seasonality, plot_acf,extract_trend_and_seasonality\n",
    "from darts.utils.timeseries_generation import datetime_attribute_timeseries\n",
    "from darts.utils.utils import ModelMode, SeasonalityMode, TrendMode\n",
    "\n",
    "from darts.datasets import SunspotsDataset, AirPassengersDataset\n",
    "\n",
    "import sys\n",
    "import time\n",
    "import warnings\n",
    "warnings.filterwarnings(\"ignore\")\n",
    "import logging\n",
    "logging.disable(logging.CRITICAL)"
   ]
  },
  {
   "cell_type": "code",
   "execution_count": 2,
   "id": "93f3979d",
   "metadata": {},
   "outputs": [],
   "source": [
    "#loading the bitcoin prices dataset with sentiment scores\n",
    "df = pd.read_csv(\"final_price_dataset.csv\")"
   ]
  },
  {
   "cell_type": "code",
   "execution_count": 3,
   "id": "b3193e54",
   "metadata": {},
   "outputs": [
    {
     "data": {
      "text/html": [
       "<div>\n",
       "<style scoped>\n",
       "    .dataframe tbody tr th:only-of-type {\n",
       "        vertical-align: middle;\n",
       "    }\n",
       "\n",
       "    .dataframe tbody tr th {\n",
       "        vertical-align: top;\n",
       "    }\n",
       "\n",
       "    .dataframe thead th {\n",
       "        text-align: right;\n",
       "    }\n",
       "</style>\n",
       "<table border=\"1\" class=\"dataframe\">\n",
       "  <thead>\n",
       "    <tr style=\"text-align: right;\">\n",
       "      <th></th>\n",
       "      <th>Date</th>\n",
       "      <th>btc_inflation_rate</th>\n",
       "      <th>mining_difficulty</th>\n",
       "      <th>hash_rate</th>\n",
       "      <th>trans_count</th>\n",
       "      <th>Price</th>\n",
       "      <th>Vol.</th>\n",
       "      <th>Change %</th>\n",
       "      <th>total_tweets</th>\n",
       "      <th>Google_trends</th>\n",
       "      <th>new_senti</th>\n",
       "    </tr>\n",
       "  </thead>\n",
       "  <tbody>\n",
       "    <tr>\n",
       "      <th>0</th>\n",
       "      <td>2018-01-01</td>\n",
       "      <td>0.043336</td>\n",
       "      <td>8.290000e+21</td>\n",
       "      <td>1.485130e+19</td>\n",
       "      <td>241601</td>\n",
       "      <td>13436.40113</td>\n",
       "      <td>78430</td>\n",
       "      <td>-2.93</td>\n",
       "      <td>62044.0</td>\n",
       "      <td>44</td>\n",
       "      <td>0.189724</td>\n",
       "    </tr>\n",
       "    <tr>\n",
       "      <th>1</th>\n",
       "      <td>2018-01-02</td>\n",
       "      <td>0.047594</td>\n",
       "      <td>8.290000e+21</td>\n",
       "      <td>1.644330e+19</td>\n",
       "      <td>340809</td>\n",
       "      <td>14732.45336</td>\n",
       "      <td>137730</td>\n",
       "      <td>9.74</td>\n",
       "      <td>77723.0</td>\n",
       "      <td>54</td>\n",
       "      <td>1.243548</td>\n",
       "    </tr>\n",
       "    <tr>\n",
       "      <th>2</th>\n",
       "      <td>2018-01-03</td>\n",
       "      <td>0.043609</td>\n",
       "      <td>8.290000e+21</td>\n",
       "      <td>1.497180e+19</td>\n",
       "      <td>395806</td>\n",
       "      <td>15068.48685</td>\n",
       "      <td>106540</td>\n",
       "      <td>2.73</td>\n",
       "      <td>79086.0</td>\n",
       "      <td>55</td>\n",
       "      <td>0.791414</td>\n",
       "    </tr>\n",
       "    <tr>\n",
       "      <th>3</th>\n",
       "      <td>2018-01-04</td>\n",
       "      <td>0.046728</td>\n",
       "      <td>8.290000e+21</td>\n",
       "      <td>1.613350e+19</td>\n",
       "      <td>424840</td>\n",
       "      <td>15150.04439</td>\n",
       "      <td>110970</td>\n",
       "      <td>0.15</td>\n",
       "      <td>74534.0</td>\n",
       "      <td>51</td>\n",
       "      <td>1.228296</td>\n",
       "    </tr>\n",
       "    <tr>\n",
       "      <th>4</th>\n",
       "      <td>2018-01-05</td>\n",
       "      <td>0.039635</td>\n",
       "      <td>8.290000e+21</td>\n",
       "      <td>1.372410e+19</td>\n",
       "      <td>342564</td>\n",
       "      <td>16929.99358</td>\n",
       "      <td>141960</td>\n",
       "      <td>11.69</td>\n",
       "      <td>76404.0</td>\n",
       "      <td>50</td>\n",
       "      <td>1.762493</td>\n",
       "    </tr>\n",
       "  </tbody>\n",
       "</table>\n",
       "</div>"
      ],
      "text/plain": [
       "         Date  btc_inflation_rate  mining_difficulty     hash_rate  \\\n",
       "0  2018-01-01            0.043336       8.290000e+21  1.485130e+19   \n",
       "1  2018-01-02            0.047594       8.290000e+21  1.644330e+19   \n",
       "2  2018-01-03            0.043609       8.290000e+21  1.497180e+19   \n",
       "3  2018-01-04            0.046728       8.290000e+21  1.613350e+19   \n",
       "4  2018-01-05            0.039635       8.290000e+21  1.372410e+19   \n",
       "\n",
       "   trans_count        Price    Vol.  Change %  total_tweets  Google_trends  \\\n",
       "0       241601  13436.40113   78430     -2.93       62044.0             44   \n",
       "1       340809  14732.45336  137730      9.74       77723.0             54   \n",
       "2       395806  15068.48685  106540      2.73       79086.0             55   \n",
       "3       424840  15150.04439  110970      0.15       74534.0             51   \n",
       "4       342564  16929.99358  141960     11.69       76404.0             50   \n",
       "\n",
       "   new_senti  \n",
       "0   0.189724  \n",
       "1   1.243548  \n",
       "2   0.791414  \n",
       "3   1.228296  \n",
       "4   1.762493  "
      ]
     },
     "execution_count": 3,
     "metadata": {},
     "output_type": "execute_result"
    }
   ],
   "source": [
    "df.drop(\"Unnamed: 0\",axis=1,inplace=True)\n",
    "df.head()"
   ]
  },
  {
   "cell_type": "markdown",
   "id": "c4d0bec1",
   "metadata": {},
   "source": [
    "Here is the data description of the attributes used.\n",
    "\n",
    "1. Bitcoin inflation rate: The percentage of new coins issued, divided by the current supply.\n",
    "\n",
    "2. Mining Difficulty: The current estimated number of hashes required to mine a block.\n",
    "\n",
    "3. Hash rate: The average estimated number of hashes per second produced by the miners in the network.\n",
    "\n",
    "4. Transaction count: Bitcoin transactions per day.\n",
    "\n",
    "5. Vol. : Trading Volume of bitcoin\n",
    "\n",
    "6. Change %: % change since last day\n",
    "\n",
    "7. Total tweets: No of tweets per day related to bitcoin\n",
    "\n",
    "8. Google trends: Google search trend score for bitcoin\n",
    "\n",
    "9. new_senti : Newly generated sentiment scores."
   ]
  },
  {
   "cell_type": "code",
   "execution_count": 4,
   "id": "3948adda",
   "metadata": {},
   "outputs": [
    {
     "name": "stdout",
     "output_type": "stream",
     "text": [
      "<class 'pandas.core.frame.DataFrame'>\n",
      "RangeIndex: 692 entries, 0 to 691\n",
      "Data columns (total 11 columns):\n",
      " #   Column              Non-Null Count  Dtype  \n",
      "---  ------              --------------  -----  \n",
      " 0   Date                692 non-null    object \n",
      " 1   btc_inflation_rate  692 non-null    float64\n",
      " 2   mining_difficulty   692 non-null    float64\n",
      " 3   hash_rate           692 non-null    float64\n",
      " 4   trans_count         692 non-null    int64  \n",
      " 5   Price               692 non-null    float64\n",
      " 6   Vol.                692 non-null    int64  \n",
      " 7   Change %            692 non-null    float64\n",
      " 8   total_tweets        692 non-null    float64\n",
      " 9   Google_trends       692 non-null    int64  \n",
      " 10  new_senti           692 non-null    float64\n",
      "dtypes: float64(7), int64(3), object(1)\n",
      "memory usage: 59.6+ KB\n"
     ]
    },
    {
     "data": {
      "text/html": [
       "<div>\n",
       "<style scoped>\n",
       "    .dataframe tbody tr th:only-of-type {\n",
       "        vertical-align: middle;\n",
       "    }\n",
       "\n",
       "    .dataframe tbody tr th {\n",
       "        vertical-align: top;\n",
       "    }\n",
       "\n",
       "    .dataframe thead th {\n",
       "        text-align: right;\n",
       "    }\n",
       "</style>\n",
       "<table border=\"1\" class=\"dataframe\">\n",
       "  <thead>\n",
       "    <tr style=\"text-align: right;\">\n",
       "      <th></th>\n",
       "      <th>btc_inflation_rate</th>\n",
       "      <th>mining_difficulty</th>\n",
       "      <th>hash_rate</th>\n",
       "      <th>trans_count</th>\n",
       "      <th>Price</th>\n",
       "      <th>Vol.</th>\n",
       "      <th>Change %</th>\n",
       "      <th>total_tweets</th>\n",
       "      <th>Google_trends</th>\n",
       "      <th>new_senti</th>\n",
       "    </tr>\n",
       "    <tr>\n",
       "      <th>Date</th>\n",
       "      <th></th>\n",
       "      <th></th>\n",
       "      <th></th>\n",
       "      <th></th>\n",
       "      <th></th>\n",
       "      <th></th>\n",
       "      <th></th>\n",
       "      <th></th>\n",
       "      <th></th>\n",
       "      <th></th>\n",
       "    </tr>\n",
       "  </thead>\n",
       "  <tbody>\n",
       "    <tr>\n",
       "      <th>2018-01-01</th>\n",
       "      <td>0.043336</td>\n",
       "      <td>8.290000e+21</td>\n",
       "      <td>1.485130e+19</td>\n",
       "      <td>241601</td>\n",
       "      <td>13436.40113</td>\n",
       "      <td>78430</td>\n",
       "      <td>-2.93</td>\n",
       "      <td>62044.0</td>\n",
       "      <td>44</td>\n",
       "      <td>0.189724</td>\n",
       "    </tr>\n",
       "    <tr>\n",
       "      <th>2018-01-02</th>\n",
       "      <td>0.047594</td>\n",
       "      <td>8.290000e+21</td>\n",
       "      <td>1.644330e+19</td>\n",
       "      <td>340809</td>\n",
       "      <td>14732.45336</td>\n",
       "      <td>137730</td>\n",
       "      <td>9.74</td>\n",
       "      <td>77723.0</td>\n",
       "      <td>54</td>\n",
       "      <td>1.243548</td>\n",
       "    </tr>\n",
       "    <tr>\n",
       "      <th>2018-01-03</th>\n",
       "      <td>0.043609</td>\n",
       "      <td>8.290000e+21</td>\n",
       "      <td>1.497180e+19</td>\n",
       "      <td>395806</td>\n",
       "      <td>15068.48685</td>\n",
       "      <td>106540</td>\n",
       "      <td>2.73</td>\n",
       "      <td>79086.0</td>\n",
       "      <td>55</td>\n",
       "      <td>0.791414</td>\n",
       "    </tr>\n",
       "    <tr>\n",
       "      <th>2018-01-04</th>\n",
       "      <td>0.046728</td>\n",
       "      <td>8.290000e+21</td>\n",
       "      <td>1.613350e+19</td>\n",
       "      <td>424840</td>\n",
       "      <td>15150.04439</td>\n",
       "      <td>110970</td>\n",
       "      <td>0.15</td>\n",
       "      <td>74534.0</td>\n",
       "      <td>51</td>\n",
       "      <td>1.228296</td>\n",
       "    </tr>\n",
       "    <tr>\n",
       "      <th>2018-01-05</th>\n",
       "      <td>0.039635</td>\n",
       "      <td>8.290000e+21</td>\n",
       "      <td>1.372410e+19</td>\n",
       "      <td>342564</td>\n",
       "      <td>16929.99358</td>\n",
       "      <td>141960</td>\n",
       "      <td>11.69</td>\n",
       "      <td>76404.0</td>\n",
       "      <td>50</td>\n",
       "      <td>1.762493</td>\n",
       "    </tr>\n",
       "  </tbody>\n",
       "</table>\n",
       "</div>"
      ],
      "text/plain": [
       "            btc_inflation_rate  mining_difficulty     hash_rate  trans_count  \\\n",
       "Date                                                                           \n",
       "2018-01-01            0.043336       8.290000e+21  1.485130e+19       241601   \n",
       "2018-01-02            0.047594       8.290000e+21  1.644330e+19       340809   \n",
       "2018-01-03            0.043609       8.290000e+21  1.497180e+19       395806   \n",
       "2018-01-04            0.046728       8.290000e+21  1.613350e+19       424840   \n",
       "2018-01-05            0.039635       8.290000e+21  1.372410e+19       342564   \n",
       "\n",
       "                  Price    Vol.  Change %  total_tweets  Google_trends  \\\n",
       "Date                                                                     \n",
       "2018-01-01  13436.40113   78430     -2.93       62044.0             44   \n",
       "2018-01-02  14732.45336  137730      9.74       77723.0             54   \n",
       "2018-01-03  15068.48685  106540      2.73       79086.0             55   \n",
       "2018-01-04  15150.04439  110970      0.15       74534.0             51   \n",
       "2018-01-05  16929.99358  141960     11.69       76404.0             50   \n",
       "\n",
       "            new_senti  \n",
       "Date                   \n",
       "2018-01-01   0.189724  \n",
       "2018-01-02   1.243548  \n",
       "2018-01-03   0.791414  \n",
       "2018-01-04   1.228296  \n",
       "2018-01-05   1.762493  "
      ]
     },
     "execution_count": 4,
     "metadata": {},
     "output_type": "execute_result"
    }
   ],
   "source": [
    "df.info()\n",
    "df['Date'] = pd.to_datetime(df[\"Date\"])\n",
    "#df.drop(\"Unnamed: 0\",axis=1,inplace=True)\n",
    "df.set_index(\"Date\",inplace=True)\n",
    "df.head()"
   ]
  },
  {
   "cell_type": "code",
   "execution_count": 5,
   "id": "8b62a0e8",
   "metadata": {},
   "outputs": [
    {
     "data": {
      "image/png": "[encoded data removed]",
      "text/plain": [
       "<Figure size 720x432 with 1 Axes>"
      ]
     },
     "metadata": {
      "needs_background": "light"
     },
     "output_type": "display_data"
    }
   ],
   "source": [
    "#Creating a timeseries object from the darts library. It will be used for the timeseries analysis for state-of-the-art models.\n",
    "plt.figure(figsize=(10,6))\n",
    "series = TimeSeries.from_series(df[\"Price\"]) \n",
    "series.plot()"
   ]
  },
  {
   "cell_type": "code",
   "execution_count": 6,
   "id": "68c67c58",
   "metadata": {},
   "outputs": [
    {
     "data": {
      "image/png": "[encoded data removed]",
      "text/plain": [
       "<Figure size 720x432 with 1 Axes>"
      ]
     },
     "metadata": {
      "needs_background": "light"
     },
     "output_type": "display_data"
    }
   ],
   "source": [
    "#creating train test split\n",
    "plt.figure(figsize=(10,6))\n",
    "train, test = series.split_before(0.80)\n",
    "train.plot()\n",
    "test.plot()"
   ]
  },
  {
   "cell_type": "markdown",
   "id": "9613f950",
   "metadata": {},
   "source": [
    "# Data Preprocessing"
   ]
  },
  {
   "cell_type": "code",
   "execution_count": 7,
   "id": "e975077a",
   "metadata": {},
   "outputs": [
    {
     "data": {
      "image/png": "[encoded data removed]",
      "text/plain": [
       "<Figure size 720x432 with 1 Axes>"
      ]
     },
     "metadata": {
      "needs_background": "light"
     },
     "output_type": "display_data"
    }
   ],
   "source": [
    "#using the scalar wrapper to normalize our time series data\n",
    "plt.figure(figsize=(10,6))\n",
    "scaler = Scaler()\n",
    "train_scaled = scaler.fit_transform(train)\n",
    "\n",
    "train_scaled.plot()"
   ]
  },
  {
   "cell_type": "markdown",
   "id": "1db5efdf",
   "metadata": {},
   "source": [
    "Next we will create the input tensor with all the attributes for time series analysis"
   ]
  },
  {
   "cell_type": "code",
   "execution_count": 8,
   "id": "7a9bea02",
   "metadata": {},
   "outputs": [
    {
     "name": "stdout",
     "output_type": "stream",
     "text": [
      "components: Index(['Price'], dtype='object', name='component')\n",
      "duration: 691 days 00:00:00\n",
      "frequency: <Day>\n",
      "frequency: D\n",
      "has date time index? (or else, it must have an integer index): True\n",
      "deterministic: True\n",
      "univariate: True\n"
     ]
    }
   ],
   "source": [
    "# create time series object for target variable\n",
    "ts_P = TimeSeries.from_series(df[\"Price\"]) \n",
    "\n",
    "# check attributes of the time series\n",
    "print(\"components:\", ts_P.components)\n",
    "print(\"duration:\",ts_P.duration)\n",
    "print(\"frequency:\",ts_P.freq)\n",
    "print(\"frequency:\",ts_P.freq_str)\n",
    "print(\"has date time index? (or else, it must have an integer index):\",ts_P.has_datetime_index)\n",
    "print(\"deterministic:\",ts_P.is_deterministic)\n",
    "print(\"univariate:\",ts_P.is_univariate)"
   ]
  },
  {
   "cell_type": "code",
   "execution_count": 9,
   "id": "163b6894",
   "metadata": {},
   "outputs": [
    {
     "name": "stdout",
     "output_type": "stream",
     "text": [
      "components (columns) of feature time series: Index(['btc_inflation_rate', 'mining_difficulty', 'hash_rate', 'trans_count',\n",
      "       'Vol.', 'Change %', 'total_tweets', 'Google_trends', 'new_senti'],\n",
      "      dtype='object', name='component')\n",
      "duration: 691 days 00:00:00\n",
      "frequency: <Day>\n",
      "frequency: D\n",
      "has date time index? (or else, it must have an integer index): True\n",
      "deterministic: True\n",
      "univariate: False\n"
     ]
    }
   ],
   "source": [
    "#adding all the covariates (external attributes other than price) in  a timeseries object\n",
    "df2 = df.drop(['Price'],axis=1)\n",
    "ts_covF = TimeSeries.from_dataframe(df2)\n",
    "\n",
    "# check attributes of the time series\n",
    "print(\"components (columns) of feature time series:\", ts_covF.components)\n",
    "print(\"duration:\",ts_covF.duration)\n",
    "print(\"frequency:\",ts_covF.freq)\n",
    "print(\"frequency:\",ts_covF.freq_str)\n",
    "print(\"has date time index? (or else, it must have an integer index):\",ts_covF.has_datetime_index)\n",
    "print(\"deterministic:\",ts_covF.is_deterministic)\n",
    "print(\"univariate:\",ts_covF.is_univariate)"
   ]
  },
  {
   "cell_type": "code",
   "execution_count": 10,
   "id": "9b52d0e7",
   "metadata": {},
   "outputs": [
    {
     "name": "stdout",
     "output_type": "stream",
     "text": [
      "<class 'numpy.ndarray'>\n"
     ]
    },
    {
     "data": {
      "text/plain": [
       "(692, 9, 1)"
      ]
     },
     "execution_count": 10,
     "metadata": {},
     "output_type": "execute_result"
    }
   ],
   "source": [
    "#checking shape of our model.\n",
    "ar_covF = ts_covF.all_values()\n",
    "print(type(ar_covF))\n",
    "ar_covF.shape"
   ]
  },
  {
   "cell_type": "code",
   "execution_count": 11,
   "id": "4cac8015",
   "metadata": {},
   "outputs": [
    {
     "data": {
      "text/plain": [
       "pandas.core.frame.DataFrame"
      ]
     },
     "execution_count": 11,
     "metadata": {},
     "output_type": "execute_result"
    }
   ],
   "source": [
    "# example: operating with time series objects:\n",
    "# we can also create a pandas series or dataframe from a time series object\n",
    "df_covF = ts_covF.pd_dataframe()\n",
    "type(df_covF)"
   ]
  },
  {
   "cell_type": "code",
   "execution_count": 12,
   "id": "2c54e2b9",
   "metadata": {},
   "outputs": [
    {
     "name": "stdout",
     "output_type": "stream",
     "text": [
      "training start: 2018-01-01 00:00:00\n",
      "training end: 2019-07-07 00:00:00\n",
      "training duration: 552 days 00:00:00\n",
      "test start: 2019-07-08 00:00:00\n",
      "test end: 2019-11-23 00:00:00\n",
      "test duration: 138 days 00:00:00\n",
      "first and last row of scaled price time series:\n"
     ]
    },
    {
     "data": {
      "text/html": [
       "<div>\n",
       "<style scoped>\n",
       "    .dataframe tbody tr th:only-of-type {\n",
       "        vertical-align: middle;\n",
       "    }\n",
       "\n",
       "    .dataframe tbody tr th {\n",
       "        vertical-align: top;\n",
       "    }\n",
       "\n",
       "    .dataframe thead th {\n",
       "        text-align: right;\n",
       "    }\n",
       "</style>\n",
       "<table border=\"1\" class=\"dataframe\">\n",
       "  <thead>\n",
       "    <tr style=\"text-align: right;\">\n",
       "      <th>component</th>\n",
       "      <th>Price</th>\n",
       "    </tr>\n",
       "    <tr>\n",
       "      <th>Date</th>\n",
       "      <th></th>\n",
       "    </tr>\n",
       "  </thead>\n",
       "  <tbody>\n",
       "    <tr>\n",
       "      <th>2018-01-01</th>\n",
       "      <td>0.74</td>\n",
       "    </tr>\n",
       "    <tr>\n",
       "      <th>2019-11-23</th>\n",
       "      <td>0.30</td>\n",
       "    </tr>\n",
       "  </tbody>\n",
       "</table>\n",
       "</div>"
      ],
      "text/plain": [
       "component   Price\n",
       "Date             \n",
       "2018-01-01   0.74\n",
       "2019-11-23   0.30"
      ]
     },
     "execution_count": 12,
     "metadata": {},
     "output_type": "execute_result"
    }
   ],
   "source": [
    "# train/test split and scaling of target variable\n",
    "#code contains normalized values of prices which will be fed into the model\n",
    "ts_train, ts_test = ts_P.split_after(0.8)\n",
    "print(\"training start:\", ts_train.start_time())\n",
    "print(\"training end:\", ts_train.end_time())\n",
    "print(\"training duration:\",ts_train.duration)\n",
    "print(\"test start:\", ts_test.start_time())\n",
    "print(\"test end:\", ts_test.end_time())\n",
    "print(\"test duration:\", ts_test.duration)\n",
    "\n",
    "#creating a scalar obejct to normalize the data\n",
    "scalerP = Scaler()\n",
    "scalerP.fit_transform(ts_train)\n",
    "ts_ttrain = scalerP.transform(ts_train)\n",
    "ts_ttest = scalerP.transform(ts_test)    \n",
    "ts_t = scalerP.transform(ts_P)\n",
    "\n",
    "# make sure data are of type float\n",
    "ts_t = ts_t.astype(np.float32)\n",
    "ts_ttrain = ts_ttrain.astype(np.float32)\n",
    "ts_ttest = ts_ttest.astype(np.float32)\n",
    "\n",
    "print(\"first and last row of scaled price time series:\")\n",
    "pd.options.display.float_format = '{:,.2f}'.format\n",
    "ts_t.pd_dataframe().iloc[[0,-1]]"
   ]
  },
  {
   "cell_type": "code",
   "execution_count": 13,
   "id": "1150d1d1",
   "metadata": {},
   "outputs": [
    {
     "name": "stdout",
     "output_type": "stream",
     "text": [
      "first and last row of scaled feature covariates:\n"
     ]
    },
    {
     "data": {
      "text/html": [
       "<div>\n",
       "<style scoped>\n",
       "    .dataframe tbody tr th:only-of-type {\n",
       "        vertical-align: middle;\n",
       "    }\n",
       "\n",
       "    .dataframe tbody tr th {\n",
       "        vertical-align: top;\n",
       "    }\n",
       "\n",
       "    .dataframe thead th {\n",
       "        text-align: right;\n",
       "    }\n",
       "</style>\n",
       "<table border=\"1\" class=\"dataframe\">\n",
       "  <thead>\n",
       "    <tr style=\"text-align: right;\">\n",
       "      <th>component</th>\n",
       "      <th>btc_inflation_rate</th>\n",
       "      <th>mining_difficulty</th>\n",
       "      <th>hash_rate</th>\n",
       "      <th>trans_count</th>\n",
       "      <th>Vol.</th>\n",
       "      <th>Change %</th>\n",
       "      <th>total_tweets</th>\n",
       "      <th>Google_trends</th>\n",
       "      <th>new_senti</th>\n",
       "    </tr>\n",
       "    <tr>\n",
       "      <th>Date</th>\n",
       "      <th></th>\n",
       "      <th></th>\n",
       "      <th></th>\n",
       "      <th></th>\n",
       "      <th></th>\n",
       "      <th></th>\n",
       "      <th></th>\n",
       "      <th></th>\n",
       "      <th></th>\n",
       "    </tr>\n",
       "  </thead>\n",
       "  <tbody>\n",
       "    <tr>\n",
       "      <th>2018-01-01</th>\n",
       "      <td>0.61</td>\n",
       "      <td>0.00</td>\n",
       "      <td>0.02</td>\n",
       "      <td>0.34</td>\n",
       "      <td>0.00</td>\n",
       "      <td>0.41</td>\n",
       "      <td>0.50</td>\n",
       "      <td>0.40</td>\n",
       "      <td>0.68</td>\n",
       "    </tr>\n",
       "    <tr>\n",
       "      <th>2019-11-23</th>\n",
       "      <td>0.66</td>\n",
       "      <td>1.84</td>\n",
       "      <td>1.63</td>\n",
       "      <td>0.54</td>\n",
       "      <td>0.05</td>\n",
       "      <td>0.52</td>\n",
       "      <td>0.03</td>\n",
       "      <td>0.15</td>\n",
       "      <td>0.68</td>\n",
       "    </tr>\n",
       "  </tbody>\n",
       "</table>\n",
       "</div>"
      ],
      "text/plain": [
       "component   btc_inflation_rate  mining_difficulty  hash_rate  trans_count  \\\n",
       "Date                                                                        \n",
       "2018-01-01                0.61               0.00       0.02         0.34   \n",
       "2019-11-23                0.66               1.84       1.63         0.54   \n",
       "\n",
       "component   Vol.  Change %  total_tweets  Google_trends  new_senti  \n",
       "Date                                                                \n",
       "2018-01-01  0.00      0.41          0.50           0.40       0.68  \n",
       "2019-11-23  0.05      0.52          0.03           0.15       0.68  "
      ]
     },
     "execution_count": 13,
     "metadata": {},
     "output_type": "execute_result"
    }
   ],
   "source": [
    "# train/test split and scaling of feature covariates\n",
    "covF_train, covF_test = ts_covF.split_after(0.8)\n",
    "\n",
    "scalerF = Scaler()\n",
    "scalerF.fit_transform(covF_train)\n",
    "covF_ttrain = scalerF.transform(covF_train) \n",
    "covF_ttest = scalerF.transform(covF_test)   \n",
    "covF_t = scalerF.transform(ts_covF)  \n",
    "\n",
    "# make sure data are of type float\n",
    "covF_ttrain = covF_ttrain.astype(np.float32)\n",
    "covF_ttest = covF_ttest.astype(np.float32)\n",
    "\n",
    "pd.options.display.float_format = '{:.2f}'.format\n",
    "print(\"first and last row of scaled feature covariates:\")\n",
    "covF_t = covF_t.astype(np.float32)\n",
    "covF_t.pd_dataframe().iloc[[0,-1]]"
   ]
  },
  {
   "cell_type": "code",
   "execution_count": 14,
   "id": "450aa399",
   "metadata": {},
   "outputs": [],
   "source": [
    "#checking for seasonality. We dont have to worry about it as the model will intrinsicly learn it"
   ]
  },
  {
   "cell_type": "code",
   "execution_count": 15,
   "id": "bede7798",
   "metadata": {},
   "outputs": [],
   "source": [
    "MSEAS = 90          # max seasonality to check: days\n",
    "ALPHA = 0.05        # significance level for seasonality test\n",
    "FIGSIZE = (9, 6)"
   ]
  },
  {
   "cell_type": "code",
   "execution_count": 16,
   "id": "b6488865",
   "metadata": {},
   "outputs": [
    {
     "name": "stdout",
     "output_type": "stream",
     "text": [
      "seasonal? True\n",
      "There is seasonality of order 38 days\n"
     ]
    }
   ],
   "source": [
    "# check for seasonality, via ACF\n",
    "mseas=MSEAS\n",
    "for m in range(2, MSEAS):\n",
    "    is_seasonal, mseas = check_seasonality(series, m=m, alpha=ALPHA, max_lag=MSEAS)\n",
    "    if is_seasonal:\n",
    "        break\n",
    "\n",
    "print(\"seasonal? \" + str(is_seasonal))\n",
    "if is_seasonal:\n",
    "    print('There is seasonality of order {} days'.format(mseas))"
   ]
  },
  {
   "cell_type": "markdown",
   "id": "a895568b",
   "metadata": {},
   "source": [
    "Our data seems to have a seasonliy of 38 days."
   ]
  },
  {
   "cell_type": "code",
   "execution_count": 17,
   "id": "2cec6aee",
   "metadata": {},
   "outputs": [
    {
     "data": {
      "image/png": "[encoded data removed]",
      "text/plain": [
       "<Figure size 1296x360 with 1 Axes>"
      ]
     },
     "metadata": {
      "needs_background": "light"
     },
     "output_type": "display_data"
    }
   ],
   "source": [
    "# ETS analysis: try to discern trend and seasonal components\n",
    "# showing the trend and seasonality trends seperately\n",
    "ts_trend, ts_seas = extract_trend_and_seasonality(ts=series, freq=mseas)\n",
    "\n",
    "plt.figure(100, figsize=(18, 5))\n",
    "ts_trend.plot()\n",
    "plt.title(\"trend component\");"
   ]
  },
  {
   "cell_type": "code",
   "execution_count": 18,
   "id": "86acec7a",
   "metadata": {},
   "outputs": [
    {
     "data": {
      "image/png": "[encoded data removed]",
      "text/plain": [
       "<Figure size 1296x360 with 1 Axes>"
      ]
     },
     "metadata": {
      "needs_background": "light"
     },
     "output_type": "display_data"
    }
   ],
   "source": [
    "#seasonal component plot\n",
    "plt.figure(100, figsize=(18, 5))\n",
    "ts_seas.plot()\n",
    "plt.title(\"seasonal component\");"
   ]
  },
  {
   "cell_type": "markdown",
   "id": "3799bf29",
   "metadata": {},
   "source": [
    "Next we have normalized all the features and now we will proceed to train and evaluate some models"
   ]
  },
  {
   "cell_type": "markdown",
   "id": "b90b0a9b",
   "metadata": {},
   "source": [
    "# TFT MODEL"
   ]
  },
  {
   "cell_type": "markdown",
   "id": "54790434",
   "metadata": {},
   "source": [
    "First we train the Temporal fusion transformer(TFT). We check the forecast for both the 7 days and 30 days window"
   ]
  },
  {
   "cell_type": "code",
   "execution_count": 19,
   "id": "af59add4",
   "metadata": {},
   "outputs": [],
   "source": [
    "#Using a 30 day window or lag\n",
    "model = TFTModel(   input_chunk_length=30,\n",
    "                    output_chunk_length=1,\n",
    "                    hidden_size=64,\n",
    "                    lstm_layers=2,  #LSTMLAYERS,\n",
    "                    num_attention_heads=4,\n",
    "                    dropout=0.1,\n",
    "                    batch_size=64,\n",
    "                    n_epochs=300,\n",
    "                    #likelihood=QuantileRegression(quantiles=QUANTILES), \n",
    "                    random_state=42, \n",
    "                    force_reset=True,\n",
    "                 torch_device_str =\"cuda\")"
   ]
  },
  {
   "cell_type": "code",
   "execution_count": 20,
   "id": "f6e31e25",
   "metadata": {},
   "outputs": [
    {
     "data": {
      "application/vnd.jupyter.widget-view+json": {
       "model_id": "96f1f677aa8d4d7497be36ee95cb87e5",
       "version_major": 2,
       "version_minor": 0
      },
      "text/plain": [
       "Training: 0it [00:00, ?it/s]"
      ]
     },
     "metadata": {},
     "output_type": "display_data"
    },
    {
     "data": {
      "text/plain": [
       "<darts.models.forecasting.tft_model.TFTModel at 0x1eee97ca908>"
      ]
     },
     "execution_count": 20,
     "metadata": {},
     "output_type": "execute_result"
    }
   ],
   "source": [
    "# training\n",
    "model.fit(  ts_ttrain, \n",
    "            future_covariates=covF_ttrain,\n",
    "            verbose=True)"
   ]
  },
  {
   "cell_type": "markdown",
   "id": "7220895c",
   "metadata": {},
   "source": [
    "Now we proceed to test our model using the historical_forecasts function below"
   ]
  },
  {
   "cell_type": "code",
   "execution_count": 21,
   "id": "93be8d24",
   "metadata": {},
   "outputs": [],
   "source": [
    "%%capture\n",
    "#Testing our model using historical_forecasts on ts_ttest \n",
    "preds = model.historical_forecasts(\n",
    "    ts_ttest, start=0.3, forecast_horizon=1,future_covariates=covF_ttest,retrain=False\n",
    ")\n",
    "\n",
    "# scale back:\n",
    "preds = scaler.inverse_transform(preds)\n",
    "actual = scaler.inverse_transform(ts_ttest)"
   ]
  },
  {
   "cell_type": "markdown",
   "id": "b2a9bc33",
   "metadata": {},
   "source": [
    "Our model has been evaluated on the test data. Let us see the plots of the actual and predicted values."
   ]
  },
  {
   "cell_type": "code",
   "execution_count": 22,
   "id": "b6bb8c7d",
   "metadata": {},
   "outputs": [
    {
     "data": {
      "text/plain": [
       "Text(0.5, 1.0, 'TFT (window of 30 days), MAPE : 1.81%)')"
      ]
     },
     "execution_count": 22,
     "metadata": {},
     "output_type": "execute_result"
    },
    {
     "data": {
      "image/png": "[encoded data removed]",
      "text/plain": [
       "<Figure size 432x288 with 1 Axes>"
      ]
     },
     "metadata": {
      "needs_background": "light"
     },
     "output_type": "display_data"
    }
   ],
   "source": [
    "#plotting the actual and predicted price values\n",
    "\n",
    "#plt.title(\"Naive Forecast (MAPE: {:.2f}%)\".format(mape(ts_test, ts_predN)))\n",
    "actual[41:].plot(label=\"actual\")\n",
    "preds.plot(label=\"predicted\")\n",
    "plt.title(\"TFT (window of 30 days), MAPE : {:.2f}%)\".format(mape(actual,preds)))"
   ]
  },
  {
   "cell_type": "code",
   "execution_count": 23,
   "id": "a12e4592",
   "metadata": {},
   "outputs": [
    {
     "name": "stdout",
     "output_type": "stream",
     "text": [
      "MAPE: 1.814260520040989\n",
      "rmse: 222.79033\n",
      "mae: 168.94402\n"
     ]
    }
   ],
   "source": [
    "#metrics of time series forecast\n",
    "print(\"MAPE:\",mape(actual,preds))\n",
    "print(\"rmse:\", rmse(actual,preds))\n",
    "print(\"mae:\",mae(actual,preds))"
   ]
  },
  {
   "cell_type": "markdown",
   "id": "689dcce7",
   "metadata": {},
   "source": [
    "We get an MAPE of 1.56% on the TFT model with a sliding window of 30 days. Next we will check a sliding window of 7 days."
   ]
  },
  {
   "cell_type": "code",
   "execution_count": 24,
   "id": "a654198d",
   "metadata": {},
   "outputs": [],
   "source": [
    "#Using a 7 day window or lag\n",
    "model = TFTModel(   input_chunk_length=7,\n",
    "                    output_chunk_length=1,\n",
    "                    hidden_size=64,\n",
    "                    lstm_layers=2,  #LSTMLAYERS,\n",
    "                    num_attention_heads=4,\n",
    "                    dropout=0.1,\n",
    "                    batch_size=64,\n",
    "                    n_epochs=300,\n",
    "                    #likelihood=QuantileRegression(quantiles=QUANTILES), \n",
    "                    random_state=42, \n",
    "                    force_reset=True,\n",
    "                 torch_device_str =\"cuda\")"
   ]
  },
  {
   "cell_type": "code",
   "execution_count": 25,
   "id": "63527c76",
   "metadata": {},
   "outputs": [
    {
     "data": {
      "application/vnd.jupyter.widget-view+json": {
       "model_id": "5fc99146c172487bbedcca79990b37dc",
       "version_major": 2,
       "version_minor": 0
      },
      "text/plain": [
       "Training: 0it [00:00, ?it/s]"
      ]
     },
     "metadata": {},
     "output_type": "display_data"
    },
    {
     "data": {
      "text/plain": [
       "<darts.models.forecasting.tft_model.TFTModel at 0x1eee9955788>"
      ]
     },
     "execution_count": 25,
     "metadata": {},
     "output_type": "execute_result"
    }
   ],
   "source": [
    "# training\n",
    "model.fit(  ts_ttrain, \n",
    "            future_covariates=covF_ttrain, \n",
    "            verbose=True)"
   ]
  },
  {
   "cell_type": "code",
   "execution_count": 26,
   "id": "cec67ac0",
   "metadata": {},
   "outputs": [],
   "source": [
    "%%capture\n",
    "#Testing our model using historical_forecasts on ts_ttest \n",
    "preds = model.historical_forecasts(\n",
    "    ts_ttest, start=0.1, forecast_horizon=1,future_covariates=covF_ttest,retrain=False\n",
    ")\n",
    "\n",
    "# scale back:\n",
    "preds = scaler.inverse_transform(preds)\n",
    "actual = scaler.inverse_transform(ts_ttest)"
   ]
  },
  {
   "cell_type": "code",
   "execution_count": 27,
   "id": "993d907e",
   "metadata": {},
   "outputs": [
    {
     "data": {
      "text/plain": [
       "Text(0.5, 1.0, 'TFT (window of 7 days), MAPE : 1.93%)')"
      ]
     },
     "execution_count": 27,
     "metadata": {},
     "output_type": "execute_result"
    },
    {
     "data": {
      "image/png": "[encoded data removed]",
      "text/plain": [
       "<Figure size 432x288 with 1 Axes>"
      ]
     },
     "metadata": {
      "needs_background": "light"
     },
     "output_type": "display_data"
    }
   ],
   "source": [
    "#plotting the actual and predicted price values\n",
    "actual[13:].plot(label=\"actual\")\n",
    "preds.plot(label=\"predicted\")\n",
    "plt.title(\"TFT (window of 7 days), MAPE : {:.2f}%)\".format(mape(actual,preds)))"
   ]
  },
  {
   "cell_type": "code",
   "execution_count": 28,
   "id": "0a7ac58b",
   "metadata": {},
   "outputs": [
    {
     "name": "stdout",
     "output_type": "stream",
     "text": [
      "MAPE: 1.934490166604519\n",
      "rmse: 260.9608\n",
      "mae: 186.95518\n"
     ]
    }
   ],
   "source": [
    "#metrics of time series forecast\n",
    "print(\"MAPE:\",mape(actual,preds))\n",
    "print(\"rmse:\", rmse(actual,preds))\n",
    "print(\"mae:\",mae(actual,preds))"
   ]
  },
  {
   "cell_type": "markdown",
   "id": "aabb15d3",
   "metadata": {},
   "source": [
    "We get an MAPE of 1.96% on the TFT model with a sliding window of 7 days."
   ]
  },
  {
   "cell_type": "markdown",
   "id": "51c30cb0",
   "metadata": {},
   "source": [
    "# TCN Model"
   ]
  },
  {
   "cell_type": "markdown",
   "id": "48b6da18",
   "metadata": {},
   "source": [
    "We next train the Temporal convolution network (TCN) on a sliding window of 30 days and 7 days"
   ]
  },
  {
   "cell_type": "code",
   "execution_count": 29,
   "id": "12adcd2f",
   "metadata": {},
   "outputs": [],
   "source": [
    "from darts.models import TCNModel\n",
    "#30 day window\n",
    "EPOCH = 300    \n",
    "FC_N = 30               # forecast periods\n",
    "FC_STRIDE = 10\n",
    "DROP = 0.1\n",
    "LEARN = 0.001\n",
    "\n",
    "model_TCN = TCNModel(\n",
    "        input_chunk_length=30,\n",
    "        output_chunk_length=1, \n",
    "        n_epochs=EPOCH,\n",
    "        dropout=0.2,\n",
    "        dilation_base=3,\n",
    "        weight_norm=True,\n",
    "        batch_size=16,\n",
    "        kernel_size=5,\n",
    "        num_filters=4,\n",
    "        optimizer_kwargs={'lr': LEARN},\n",
    "        log_tensorboard=True,\n",
    "        force_reset=True,\n",
    "        random_state=42)"
   ]
  },
  {
   "cell_type": "code",
   "execution_count": 30,
   "id": "edf97d59",
   "metadata": {},
   "outputs": [
    {
     "data": {
      "application/vnd.jupyter.widget-view+json": {
       "model_id": "db5df66847e04c85a0ea6137245b2264",
       "version_major": 2,
       "version_minor": 0
      },
      "text/plain": [
       "Training: 0it [00:00, ?it/s]"
      ]
     },
     "metadata": {},
     "output_type": "display_data"
    },
    {
     "data": {
      "text/plain": [
       "<darts.models.forecasting.tcn_model.TCNModel at 0x170d9467b88>"
      ]
     },
     "execution_count": 30,
     "metadata": {},
     "output_type": "execute_result"
    }
   ],
   "source": [
    "# training: load a saved model or (re)train\n",
    "# training\n",
    "model_TCN.fit(  ts_ttrain, \n",
    "            past_covariates=covF_ttrain, \n",
    "            verbose=True)"
   ]
  },
  {
   "cell_type": "code",
   "execution_count": 31,
   "id": "658e809d",
   "metadata": {},
   "outputs": [],
   "source": [
    "%%capture\n",
    "#Testing our model using historical_forecasts on ts_ttest \n",
    "preds = model_TCN.historical_forecasts(\n",
    "    ts_ttest, start=0.3, forecast_horizon=1,past_covariates=covF_t,retrain=False\n",
    ")\n",
    "\n",
    "# scale back:\n",
    "preds = scaler.inverse_transform(preds)\n",
    "actual = scaler.inverse_transform(ts_ttest)\n"
   ]
  },
  {
   "cell_type": "code",
   "execution_count": 32,
   "id": "975dc6f8",
   "metadata": {},
   "outputs": [
    {
     "data": {
      "text/plain": [
       "Text(0.5, 1.0, 'TCN (window of 30 days), MAPE : 2.43%)')"
      ]
     },
     "execution_count": 32,
     "metadata": {},
     "output_type": "execute_result"
    },
    {
     "data": {
      "image/png": "[encoded data removed]",
      "text/plain": [
       "<Figure size 432x288 with 1 Axes>"
      ]
     },
     "metadata": {
      "needs_background": "light"
     },
     "output_type": "display_data"
    }
   ],
   "source": [
    "#plotting the actual and predicted price values\n",
    "actual[41:].plot(label=\"actual\")\n",
    "preds.plot(label=\"predicted\")\n",
    "plt.title(\"TCN (window of 30 days), MAPE : {:.2f}%)\".format(mape(actual,preds)))"
   ]
  },
  {
   "cell_type": "code",
   "execution_count": 33,
   "id": "8da4c879",
   "metadata": {},
   "outputs": [
    {
     "name": "stdout",
     "output_type": "stream",
     "text": [
      "MAPE: 2.42711640894413\n",
      "rmse: 298.4291\n",
      "mae: 215.51251\n"
     ]
    }
   ],
   "source": [
    "#metrics of time series forecast\n",
    "print(\"MAPE:\",mape(actual,preds))\n",
    "print(\"rmse:\", rmse(actual,preds))\n",
    "print(\"mae:\",mae(actual,preds))"
   ]
  },
  {
   "cell_type": "markdown",
   "id": "ece3b1ea",
   "metadata": {},
   "source": [
    "The TCN model gives an MAPE of 2.43% for a 30 sliding window.Lets check the 7 day window now."
   ]
  },
  {
   "cell_type": "code",
   "execution_count": 34,
   "id": "d8c06b59",
   "metadata": {},
   "outputs": [],
   "source": [
    "from darts.models import TCNModel\n",
    "#30 day window\n",
    "EPOCH = 300    \n",
    "FC_N = 30               # forecast periods\n",
    "FC_STRIDE = 10\n",
    "DROP = 0.1\n",
    "LEARN = 0.001\n",
    "\n",
    "model_TCN = TCNModel(\n",
    "        input_chunk_length=7,\n",
    "        output_chunk_length=1, \n",
    "        n_epochs=EPOCH,\n",
    "        dropout=DROP,\n",
    "        dilation_base=2,\n",
    "        weight_norm=True,\n",
    "        batch_size=16,\n",
    "        kernel_size=5,\n",
    "        num_filters=3,\n",
    "        optimizer_kwargs={'lr': LEARN},\n",
    "        log_tensorboard=True,\n",
    "        force_reset=True,\n",
    "        random_state=42)"
   ]
  },
  {
   "cell_type": "code",
   "execution_count": 35,
   "id": "f458559b",
   "metadata": {},
   "outputs": [
    {
     "data": {
      "application/vnd.jupyter.widget-view+json": {
       "model_id": "85de64ad2cb84683a7ad830368d47bf6",
       "version_major": 2,
       "version_minor": 0
      },
      "text/plain": [
       "Training: 0it [00:00, ?it/s]"
      ]
     },
     "metadata": {},
     "output_type": "display_data"
    },
    {
     "data": {
      "text/plain": [
       "<darts.models.forecasting.tcn_model.TCNModel at 0x170da188608>"
      ]
     },
     "execution_count": 35,
     "metadata": {},
     "output_type": "execute_result"
    }
   ],
   "source": [
    "# training: load a saved model or (re)train\n",
    "# training\n",
    "model_TCN.fit(  ts_ttrain, \n",
    "            past_covariates=covF_ttrain, \n",
    "            verbose=True)"
   ]
  },
  {
   "cell_type": "code",
   "execution_count": 36,
   "id": "fa66c914",
   "metadata": {},
   "outputs": [],
   "source": [
    "%%capture\n",
    "#Testing our model using historical_forecasts on ts_ttest \n",
    "preds = model_TCN.historical_forecasts(\n",
    "    ts_ttest, start=0.1, forecast_horizon=1,past_covariates=covF_ttest,retrain=False\n",
    ")\n",
    "\n",
    "# scale back:\n",
    "preds = scaler.inverse_transform(preds)\n",
    "actual = scaler.inverse_transform(ts_ttest)"
   ]
  },
  {
   "cell_type": "code",
   "execution_count": 37,
   "id": "d32fec90",
   "metadata": {},
   "outputs": [
    {
     "data": {
      "text/plain": [
       "Text(0.5, 1.0, 'TCN (window of 7 days), MAPE : 3.11%)')"
      ]
     },
     "execution_count": 37,
     "metadata": {},
     "output_type": "execute_result"
    },
    {
     "data": {
      "image/png": "[encoded data removed]",
      "text/plain": [
       "<Figure size 432x288 with 1 Axes>"
      ]
     },
     "metadata": {
      "needs_background": "light"
     },
     "output_type": "display_data"
    }
   ],
   "source": [
    "#plotting the actual and predicted price values\n",
    "actual[13:].plot(label=\"actual\")\n",
    "preds.plot(label=\"predicted\")\n",
    "plt.title(\"TCN (window of 7 days), MAPE : {:.2f}%)\".format(mape(actual,preds)))"
   ]
  },
  {
   "cell_type": "code",
   "execution_count": 38,
   "id": "7cb3b1f0",
   "metadata": {},
   "outputs": [
    {
     "name": "stdout",
     "output_type": "stream",
     "text": [
      "MAPE: 3.111855499446392\n",
      "rmse: 365.04944\n",
      "mae: 287.0434\n"
     ]
    }
   ],
   "source": [
    "#metrics of time series forecast\n",
    "print(\"MAPE:\",mape(actual,preds))\n",
    "print(\"rmse:\", rmse(actual,preds))\n",
    "print(\"mae:\",mae(actual,preds))"
   ]
  },
  {
   "cell_type": "markdown",
   "id": "53cddc82",
   "metadata": {},
   "source": [
    "The TCN model gives an MAPE of 3.11% for a 7 sliding window."
   ]
  },
  {
   "cell_type": "markdown",
   "id": "24073380",
   "metadata": {},
   "source": [
    "# NBEATS MODEL"
   ]
  },
  {
   "cell_type": "markdown",
   "id": "806fb730",
   "metadata": {},
   "source": [
    "Next we train the NBeats model on both the 7 and 30 day windows."
   ]
  },
  {
   "cell_type": "code",
   "execution_count": 44,
   "id": "15db7ec0",
   "metadata": {},
   "outputs": [],
   "source": [
    "#NBEATSModel - 30 day window\n",
    "NBEATS_model = NBEATSModel(    input_chunk_length=30,\n",
    "                        output_chunk_length=1,\n",
    "                        num_stacks=32,\n",
    "                        layer_widths=16,\n",
    "                        n_epochs=100,\n",
    "                        log_tensorboard=True,\n",
    "                        generic_architecture=True, \n",
    "                        random_state=42,\n",
    "                        force_reset=True,\n",
    "                        save_checkpoints=True,\n",
    "                        torch_device_str=\"cuda\"\n",
    "                    )"
   ]
  },
  {
   "cell_type": "markdown",
   "id": "7e109bd0",
   "metadata": {},
   "source": [
    "Lets train the model"
   ]
  },
  {
   "cell_type": "code",
   "execution_count": 45,
   "id": "115b593f",
   "metadata": {},
   "outputs": [
    {
     "data": {
      "application/vnd.jupyter.widget-view+json": {
       "model_id": "787c10cfdab8485bad55f8ecbde8f2a5",
       "version_major": 2,
       "version_minor": 0
      },
      "text/plain": [
       "Training: 0it [00:00, ?it/s]"
      ]
     },
     "metadata": {},
     "output_type": "display_data"
    },
    {
     "data": {
      "text/plain": [
       "<darts.models.forecasting.nbeats.NBEATSModel at 0x17084c0c248>"
      ]
     },
     "execution_count": 45,
     "metadata": {},
     "output_type": "execute_result"
    }
   ],
   "source": [
    "# training: load a saved model or (re)train\n",
    "NBEATS_model.fit(  series=ts_ttrain, \n",
    "            past_covariates=covF_ttrain,\n",
    "                verbose=True)"
   ]
  },
  {
   "cell_type": "markdown",
   "id": "1fa968fa",
   "metadata": {},
   "source": [
    "Now that the model has been trained lets test the forecast on the test data."
   ]
  },
  {
   "cell_type": "code",
   "execution_count": 46,
   "id": "0e20a2c9",
   "metadata": {},
   "outputs": [],
   "source": [
    "%%capture\n",
    "#Testing our model using historical_forecasts on ts_ttest \n",
    "preds = NBEATS_model.historical_forecasts(\n",
    "    ts_ttest, start=0.3, forecast_horizon=1,past_covariates=covF_ttest,retrain=False\n",
    ")\n",
    "\n",
    "# scale back:\n",
    "preds = scaler.inverse_transform(preds)\n",
    "actual = scaler.inverse_transform(ts_ttest)"
   ]
  },
  {
   "cell_type": "code",
   "execution_count": 47,
   "id": "85381778",
   "metadata": {},
   "outputs": [
    {
     "data": {
      "text/plain": [
       "Text(0.5, 1.0, 'N-BEATS (window of 30 days), MAPE : 14.45%)')"
      ]
     },
     "execution_count": 47,
     "metadata": {},
     "output_type": "execute_result"
    },
    {
     "data": {
      "image/png": "[encoded data removed]",
      "text/plain": [
       "<Figure size 432x288 with 1 Axes>"
      ]
     },
     "metadata": {
      "needs_background": "light"
     },
     "output_type": "display_data"
    }
   ],
   "source": [
    "#plotting the actual and predicted price values\n",
    "actual[41:].plot(label=\"actual\")\n",
    "preds.plot(label=\"predicted\")\n",
    "plt.title(\"N-BEATS (window of 30 days), MAPE : {:.2f}%)\".format(mape(actual,preds)))"
   ]
  },
  {
   "cell_type": "code",
   "execution_count": 48,
   "id": "808c3efb",
   "metadata": {},
   "outputs": [
    {
     "name": "stdout",
     "output_type": "stream",
     "text": [
      "MAPE: 14.445382356643677\n",
      "rmse: 1408.7769\n",
      "mae: 1241.7488\n"
     ]
    }
   ],
   "source": [
    "#metrics of time series forecast\n",
    "print(\"MAPE:\",mape(actual,preds))\n",
    "print(\"rmse:\", rmse(actual,preds))\n",
    "print(\"mae:\",mae(actual,preds))"
   ]
  },
  {
   "cell_type": "markdown",
   "id": "156c2899",
   "metadata": {},
   "source": [
    "We get a MAPE of 14.45% which isnt great.Lets check the performance for the 7-day window."
   ]
  },
  {
   "cell_type": "code",
   "execution_count": 51,
   "id": "1d02d526",
   "metadata": {},
   "outputs": [],
   "source": [
    "#NBEATSModel - 7 day window\n",
    "NBEATS_model = NBEATSModel(    input_chunk_length=7,\n",
    "                        output_chunk_length=1, \n",
    "                        num_stacks=32,\n",
    "                        layer_widths=16,\n",
    "                        n_epochs=100,\n",
    "                        nr_epochs_val_period=1,  \n",
    "                        log_tensorboard=True,\n",
    "                        generic_architecture=True, \n",
    "                        random_state=42,\n",
    "                        force_reset=True,\n",
    "                        save_checkpoints=True,\n",
    "                        torch_device_str=\"cuda\"\n",
    "                    )"
   ]
  },
  {
   "cell_type": "code",
   "execution_count": 52,
   "id": "6ed966c2",
   "metadata": {},
   "outputs": [
    {
     "data": {
      "application/vnd.jupyter.widget-view+json": {
       "model_id": "d4d36333310f4bfe8c23189db08b0172",
       "version_major": 2,
       "version_minor": 0
      },
      "text/plain": [
       "Training: 0it [00:00, ?it/s]"
      ]
     },
     "metadata": {},
     "output_type": "display_data"
    },
    {
     "data": {
      "text/plain": [
       "<darts.models.forecasting.nbeats.NBEATSModel at 0x1716ad6b9c8>"
      ]
     },
     "execution_count": 52,
     "metadata": {},
     "output_type": "execute_result"
    }
   ],
   "source": [
    "# training: load a saved model or (re)train\n",
    "NBEATS_model.fit(  series=ts_ttrain, \n",
    "            past_covariates=covF_ttrain,\n",
    "                verbose=True)"
   ]
  },
  {
   "cell_type": "code",
   "execution_count": 53,
   "id": "91ab10b4",
   "metadata": {},
   "outputs": [],
   "source": [
    "%%capture\n",
    "#Testing our model using historical_forecasts on ts_ttest \n",
    "preds = NBEATS_model.historical_forecasts(\n",
    "    ts_ttest, start=0.3, forecast_horizon=1,past_covariates=covF_ttest,retrain=False\n",
    ")\n",
    "\n",
    "# scale back:\n",
    "preds = scaler.inverse_transform(preds)\n",
    "actual = scaler.inverse_transform(ts_ttest)"
   ]
  },
  {
   "cell_type": "code",
   "execution_count": 54,
   "id": "3e9c7700",
   "metadata": {},
   "outputs": [
    {
     "data": {
      "text/plain": [
       "Text(0.5, 1.0, 'N-BEATS (window of 7 days), MAPE : 3.14%)')"
      ]
     },
     "execution_count": 54,
     "metadata": {},
     "output_type": "execute_result"
    },
    {
     "data": {
      "image/png": "[encoded data removed]",
      "text/plain": [
       "<Figure size 432x288 with 1 Axes>"
      ]
     },
     "metadata": {
      "needs_background": "light"
     },
     "output_type": "display_data"
    }
   ],
   "source": [
    "#plotting the actual and predicted price values\n",
    "actual[41:].plot(label=\"actual\")\n",
    "preds.plot(label=\"predicted\")\n",
    "plt.title(\"N-BEATS (window of 7 days), MAPE : {:.2f}%)\".format(mape(actual,preds)))"
   ]
  },
  {
   "cell_type": "code",
   "execution_count": 55,
   "id": "ec60dfce",
   "metadata": {},
   "outputs": [
    {
     "name": "stdout",
     "output_type": "stream",
     "text": [
      "MAPE: 3.14338319003582\n",
      "rmse: 364.63235\n",
      "mae: 274.1947\n"
     ]
    }
   ],
   "source": [
    "#metrics of time series forecast\n",
    "print(\"MAPE:\",mape(actual,preds))\n",
    "print(\"rmse:\", rmse(actual,preds))\n",
    "print(\"mae:\",mae(actual,preds))"
   ]
  },
  {
   "cell_type": "markdown",
   "id": "e3408478",
   "metadata": {},
   "source": [
    "The 7-day window has a MAPE of 3.14% which is much better compared to the 30-day window."
   ]
  },
  {
   "cell_type": "markdown",
   "id": "cf812e6f",
   "metadata": {},
   "source": [
    "# GridSearch"
   ]
  },
  {
   "cell_type": "markdown",
   "id": "cd2c98e6",
   "metadata": {},
   "source": [
    "Below we find the optimal TCN model with grid search"
   ]
  },
  {
   "cell_type": "code",
   "execution_count": 104,
   "id": "11e2c939",
   "metadata": {},
   "outputs": [
    {
     "data": {
      "application/vnd.jupyter.widget-view+json": {
       "model_id": "d2ff443146434d2682603bd3263cb518",
       "version_major": 2,
       "version_minor": 0
      },
      "text/plain": [
       "Training: 0it [00:00, ?it/s]"
      ]
     },
     "metadata": {},
     "output_type": "display_data"
    },
    {
     "data": {
      "application/vnd.jupyter.widget-view+json": {
       "model_id": "98343795139c478e8f67e09e9d7a2843",
       "version_major": 2,
       "version_minor": 0
      },
      "text/plain": [
       "Predicting: 18it [00:00, ?it/s]"
      ]
     },
     "metadata": {},
     "output_type": "display_data"
    },
    {
     "data": {
      "application/vnd.jupyter.widget-view+json": {
       "model_id": "3a6ff3f8636b4cdeb6d9b369b539c808",
       "version_major": 2,
       "version_minor": 0
      },
      "text/plain": [
       "Training: 0it [00:00, ?it/s]"
      ]
     },
     "metadata": {},
     "output_type": "display_data"
    },
    {
     "data": {
      "application/vnd.jupyter.widget-view+json": {
       "model_id": "675c1c5ab85f4c229bca19b304f6a2d4",
       "version_major": 2,
       "version_minor": 0
      },
      "text/plain": [
       "Predicting: 18it [00:00, ?it/s]"
      ]
     },
     "metadata": {},
     "output_type": "display_data"
    },
    {
     "data": {
      "application/vnd.jupyter.widget-view+json": {
       "model_id": "eee63e9d6d064363a9559b4fa9ef4649",
       "version_major": 2,
       "version_minor": 0
      },
      "text/plain": [
       "Training: 0it [00:00, ?it/s]"
      ]
     },
     "metadata": {},
     "output_type": "display_data"
    },
    {
     "data": {
      "application/vnd.jupyter.widget-view+json": {
       "model_id": "44a98cd80b3048f8880e172ad3dcfb29",
       "version_major": 2,
       "version_minor": 0
      },
      "text/plain": [
       "Predicting: 18it [00:00, ?it/s]"
      ]
     },
     "metadata": {},
     "output_type": "display_data"
    },
    {
     "data": {
      "application/vnd.jupyter.widget-view+json": {
       "model_id": "a4365132bc30470db898c4f40bbaceff",
       "version_major": 2,
       "version_minor": 0
      },
      "text/plain": [
       "Training: 0it [00:00, ?it/s]"
      ]
     },
     "metadata": {},
     "output_type": "display_data"
    },
    {
     "data": {
      "application/vnd.jupyter.widget-view+json": {
       "model_id": "96a8fa49fad2439daf09ed029f1e9ca6",
       "version_major": 2,
       "version_minor": 0
      },
      "text/plain": [
       "Predicting: 18it [00:00, ?it/s]"
      ]
     },
     "metadata": {},
     "output_type": "display_data"
    },
    {
     "data": {
      "application/vnd.jupyter.widget-view+json": {
       "model_id": "4faf6ad218dd461f83eb5518579f618c",
       "version_major": 2,
       "version_minor": 0
      },
      "text/plain": [
       "Training: 0it [00:00, ?it/s]"
      ]
     },
     "metadata": {},
     "output_type": "display_data"
    },
    {
     "data": {
      "application/vnd.jupyter.widget-view+json": {
       "model_id": "4690d99d81fe49c08a142feb461dc294",
       "version_major": 2,
       "version_minor": 0
      },
      "text/plain": [
       "Predicting: 18it [00:00, ?it/s]"
      ]
     },
     "metadata": {},
     "output_type": "display_data"
    },
    {
     "data": {
      "application/vnd.jupyter.widget-view+json": {
       "model_id": "e21ce3de56a34b078fbd05cd79fd04d7",
       "version_major": 2,
       "version_minor": 0
      },
      "text/plain": [
       "Training: 0it [00:00, ?it/s]"
      ]
     },
     "metadata": {},
     "output_type": "display_data"
    },
    {
     "data": {
      "application/vnd.jupyter.widget-view+json": {
       "model_id": "0e104d3876254d868b710298641d6525",
       "version_major": 2,
       "version_minor": 0
      },
      "text/plain": [
       "Predicting: 18it [00:00, ?it/s]"
      ]
     },
     "metadata": {},
     "output_type": "display_data"
    },
    {
     "data": {
      "application/vnd.jupyter.widget-view+json": {
       "model_id": "2222fe230b8b4efdb390cce1974cbb4b",
       "version_major": 2,
       "version_minor": 0
      },
      "text/plain": [
       "Training: 0it [00:00, ?it/s]"
      ]
     },
     "metadata": {},
     "output_type": "display_data"
    },
    {
     "data": {
      "application/vnd.jupyter.widget-view+json": {
       "model_id": "ceb27afc1a8b44a0af87f1827b8e0f7d",
       "version_major": 2,
       "version_minor": 0
      },
      "text/plain": [
       "Predicting: 18it [00:00, ?it/s]"
      ]
     },
     "metadata": {},
     "output_type": "display_data"
    },
    {
     "data": {
      "application/vnd.jupyter.widget-view+json": {
       "model_id": "e77c93beeb384722ae7e923220d46215",
       "version_major": 2,
       "version_minor": 0
      },
      "text/plain": [
       "Training: 0it [00:00, ?it/s]"
      ]
     },
     "metadata": {},
     "output_type": "display_data"
    },
    {
     "data": {
      "application/vnd.jupyter.widget-view+json": {
       "model_id": "1b1a07c3c19c4da2aef76d4a3f80ddca",
       "version_major": 2,
       "version_minor": 0
      },
      "text/plain": [
       "Predicting: 18it [00:00, ?it/s]"
      ]
     },
     "metadata": {},
     "output_type": "display_data"
    },
    {
     "data": {
      "application/vnd.jupyter.widget-view+json": {
       "model_id": "5530c43a26f74875941d55abe6b28212",
       "version_major": 2,
       "version_minor": 0
      },
      "text/plain": [
       "Training: 0it [00:00, ?it/s]"
      ]
     },
     "metadata": {},
     "output_type": "display_data"
    },
    {
     "data": {
      "application/vnd.jupyter.widget-view+json": {
       "model_id": "0d05ba5de32a4efaa06e9c48acffc659",
       "version_major": 2,
       "version_minor": 0
      },
      "text/plain": [
       "Predicting: 18it [00:00, ?it/s]"
      ]
     },
     "metadata": {},
     "output_type": "display_data"
    },
    {
     "data": {
      "application/vnd.jupyter.widget-view+json": {
       "model_id": "e299868e31cb44d18a2ceb8127a6df31",
       "version_major": 2,
       "version_minor": 0
      },
      "text/plain": [
       "Training: 0it [00:00, ?it/s]"
      ]
     },
     "metadata": {},
     "output_type": "display_data"
    },
    {
     "data": {
      "application/vnd.jupyter.widget-view+json": {
       "model_id": "61505ce55bea4adbad165e26a59143c0",
       "version_major": 2,
       "version_minor": 0
      },
      "text/plain": [
       "Predicting: 18it [00:00, ?it/s]"
      ]
     },
     "metadata": {},
     "output_type": "display_data"
    },
    {
     "data": {
      "application/vnd.jupyter.widget-view+json": {
       "model_id": "1ebd6e659fb84391b5e43a800d2ee4d5",
       "version_major": 2,
       "version_minor": 0
      },
      "text/plain": [
       "Training: 0it [00:00, ?it/s]"
      ]
     },
     "metadata": {},
     "output_type": "display_data"
    },
    {
     "data": {
      "application/vnd.jupyter.widget-view+json": {
       "model_id": "de53768e77994f42b956d62ef975e662",
       "version_major": 2,
       "version_minor": 0
      },
      "text/plain": [
       "Predicting: 18it [00:00, ?it/s]"
      ]
     },
     "metadata": {},
     "output_type": "display_data"
    },
    {
     "data": {
      "application/vnd.jupyter.widget-view+json": {
       "model_id": "585eb3538af849fb84d2221f6d94f769",
       "version_major": 2,
       "version_minor": 0
      },
      "text/plain": [
       "Training: 0it [00:00, ?it/s]"
      ]
     },
     "metadata": {},
     "output_type": "display_data"
    },
    {
     "data": {
      "application/vnd.jupyter.widget-view+json": {
       "model_id": "260f5189d9cd4f0da2140b3e6ca3250e",
       "version_major": 2,
       "version_minor": 0
      },
      "text/plain": [
       "Predicting: 18it [00:00, ?it/s]"
      ]
     },
     "metadata": {},
     "output_type": "display_data"
    },
    {
     "data": {
      "application/vnd.jupyter.widget-view+json": {
       "model_id": "4d98062dcc444c4dae2c4067d671f5db",
       "version_major": 2,
       "version_minor": 0
      },
      "text/plain": [
       "Training: 0it [00:00, ?it/s]"
      ]
     },
     "metadata": {},
     "output_type": "display_data"
    },
    {
     "data": {
      "application/vnd.jupyter.widget-view+json": {
       "model_id": "2d8e3fe3dae94ce7ae5982116e9eb31b",
       "version_major": 2,
       "version_minor": 0
      },
      "text/plain": [
       "Predicting: 18it [00:00, ?it/s]"
      ]
     },
     "metadata": {},
     "output_type": "display_data"
    },
    {
     "data": {
      "application/vnd.jupyter.widget-view+json": {
       "model_id": "63a7eb2508894ddea371695fb4d36b8c",
       "version_major": 2,
       "version_minor": 0
      },
      "text/plain": [
       "Training: 0it [00:00, ?it/s]"
      ]
     },
     "metadata": {},
     "output_type": "display_data"
    },
    {
     "data": {
      "application/vnd.jupyter.widget-view+json": {
       "model_id": "7a79568daa5145d4848bfd746893bee6",
       "version_major": 2,
       "version_minor": 0
      },
      "text/plain": [
       "Predicting: 18it [00:00, ?it/s]"
      ]
     },
     "metadata": {},
     "output_type": "display_data"
    },
    {
     "data": {
      "application/vnd.jupyter.widget-view+json": {
       "model_id": "d5731657d748449dab1e05ef781be892",
       "version_major": 2,
       "version_minor": 0
      },
      "text/plain": [
       "Training: 0it [00:00, ?it/s]"
      ]
     },
     "metadata": {},
     "output_type": "display_data"
    },
    {
     "data": {
      "application/vnd.jupyter.widget-view+json": {
       "model_id": "bf45b3a6d5124a71aa15cd066e57300e",
       "version_major": 2,
       "version_minor": 0
      },
      "text/plain": [
       "Predicting: 18it [00:00, ?it/s]"
      ]
     },
     "metadata": {},
     "output_type": "display_data"
    },
    {
     "data": {
      "application/vnd.jupyter.widget-view+json": {
       "model_id": "00a10ff2df4e400a924c09c4120ec67d",
       "version_major": 2,
       "version_minor": 0
      },
      "text/plain": [
       "Training: 0it [00:00, ?it/s]"
      ]
     },
     "metadata": {},
     "output_type": "display_data"
    },
    {
     "data": {
      "application/vnd.jupyter.widget-view+json": {
       "model_id": "0bf76534fc8547c79c6a9c3708eac5d8",
       "version_major": 2,
       "version_minor": 0
      },
      "text/plain": [
       "Predicting: 18it [00:00, ?it/s]"
      ]
     },
     "metadata": {},
     "output_type": "display_data"
    },
    {
     "data": {
      "application/vnd.jupyter.widget-view+json": {
       "model_id": "3202867556284fe39a587e4e940203bd",
       "version_major": 2,
       "version_minor": 0
      },
      "text/plain": [
       "Training: 0it [00:00, ?it/s]"
      ]
     },
     "metadata": {},
     "output_type": "display_data"
    },
    {
     "data": {
      "application/vnd.jupyter.widget-view+json": {
       "model_id": "b407894ea573404794db82ab52191f68",
       "version_major": 2,
       "version_minor": 0
      },
      "text/plain": [
       "Predicting: 18it [00:00, ?it/s]"
      ]
     },
     "metadata": {},
     "output_type": "display_data"
    },
    {
     "data": {
      "application/vnd.jupyter.widget-view+json": {
       "model_id": "5d5fedd3a7e04d2ea1cd6bf19b8dd800",
       "version_major": 2,
       "version_minor": 0
      },
      "text/plain": [
       "Training: 0it [00:00, ?it/s]"
      ]
     },
     "metadata": {},
     "output_type": "display_data"
    },
    {
     "data": {
      "application/vnd.jupyter.widget-view+json": {
       "model_id": "51ea738c5d614dad960067dc322c1206",
       "version_major": 2,
       "version_minor": 0
      },
      "text/plain": [
       "Predicting: 18it [00:00, ?it/s]"
      ]
     },
     "metadata": {},
     "output_type": "display_data"
    },
    {
     "data": {
      "application/vnd.jupyter.widget-view+json": {
       "model_id": "d064b7ee98f24164a6e07a574f240c81",
       "version_major": 2,
       "version_minor": 0
      },
      "text/plain": [
       "Training: 0it [00:00, ?it/s]"
      ]
     },
     "metadata": {},
     "output_type": "display_data"
    },
    {
     "data": {
      "application/vnd.jupyter.widget-view+json": {
       "model_id": "e8e23e01db834facba27bc41b560ef53",
       "version_major": 2,
       "version_minor": 0
      },
      "text/plain": [
       "Predicting: 18it [00:00, ?it/s]"
      ]
     },
     "metadata": {},
     "output_type": "display_data"
    },
    {
     "data": {
      "application/vnd.jupyter.widget-view+json": {
       "model_id": "75948dd0375d4c56a21bc3f649d9074b",
       "version_major": 2,
       "version_minor": 0
      },
      "text/plain": [
       "Training: 0it [00:00, ?it/s]"
      ]
     },
     "metadata": {},
     "output_type": "display_data"
    },
    {
     "data": {
      "application/vnd.jupyter.widget-view+json": {
       "model_id": "d7165b1c93e14ae1ab706f1a82070cbf",
       "version_major": 2,
       "version_minor": 0
      },
      "text/plain": [
       "Predicting: 18it [00:00, ?it/s]"
      ]
     },
     "metadata": {},
     "output_type": "display_data"
    },
    {
     "data": {
      "application/vnd.jupyter.widget-view+json": {
       "model_id": "f8ccab1ec2d04365b78c6edf86287ea3",
       "version_major": 2,
       "version_minor": 0
      },
      "text/plain": [
       "Training: 0it [00:00, ?it/s]"
      ]
     },
     "metadata": {},
     "output_type": "display_data"
    },
    {
     "data": {
      "application/vnd.jupyter.widget-view+json": {
       "model_id": "57fb9941654d44cf82cf451e11c373c3",
       "version_major": 2,
       "version_minor": 0
      },
      "text/plain": [
       "Predicting: 18it [00:00, ?it/s]"
      ]
     },
     "metadata": {},
     "output_type": "display_data"
    },
    {
     "data": {
      "application/vnd.jupyter.widget-view+json": {
       "model_id": "a0e3b75481914ea8994aa3a7320f888c",
       "version_major": 2,
       "version_minor": 0
      },
      "text/plain": [
       "Training: 0it [00:00, ?it/s]"
      ]
     },
     "metadata": {},
     "output_type": "display_data"
    },
    {
     "data": {
      "application/vnd.jupyter.widget-view+json": {
       "model_id": "3c5fa4ef2e5e4d29920ae84d81022dcd",
       "version_major": 2,
       "version_minor": 0
      },
      "text/plain": [
       "Predicting: 18it [00:00, ?it/s]"
      ]
     },
     "metadata": {},
     "output_type": "display_data"
    },
    {
     "data": {
      "application/vnd.jupyter.widget-view+json": {
       "model_id": "a78afdd4dfa2428ca3805a94c8e30210",
       "version_major": 2,
       "version_minor": 0
      },
      "text/plain": [
       "Training: 0it [00:00, ?it/s]"
      ]
     },
     "metadata": {},
     "output_type": "display_data"
    },
    {
     "data": {
      "application/vnd.jupyter.widget-view+json": {
       "model_id": "3c584199b8c44af393f8854e1a44deee",
       "version_major": 2,
       "version_minor": 0
      },
      "text/plain": [
       "Predicting: 18it [00:00, ?it/s]"
      ]
     },
     "metadata": {},
     "output_type": "display_data"
    },
    {
     "data": {
      "application/vnd.jupyter.widget-view+json": {
       "model_id": "73f5ea13027442f4817b19154c8d5c0f",
       "version_major": 2,
       "version_minor": 0
      },
      "text/plain": [
       "Training: 0it [00:00, ?it/s]"
      ]
     },
     "metadata": {},
     "output_type": "display_data"
    },
    {
     "data": {
      "application/vnd.jupyter.widget-view+json": {
       "model_id": "5016b13948b2485bacd489e177f2857a",
       "version_major": 2,
       "version_minor": 0
      },
      "text/plain": [
       "Predicting: 18it [00:00, ?it/s]"
      ]
     },
     "metadata": {},
     "output_type": "display_data"
    },
    {
     "data": {
      "application/vnd.jupyter.widget-view+json": {
       "model_id": "5cb36485a8524f068ccc2b324af7da2b",
       "version_major": 2,
       "version_minor": 0
      },
      "text/plain": [
       "Training: 0it [00:00, ?it/s]"
      ]
     },
     "metadata": {},
     "output_type": "display_data"
    },
    {
     "data": {
      "application/vnd.jupyter.widget-view+json": {
       "model_id": "d99dc47633584529896d6334019f9dd6",
       "version_major": 2,
       "version_minor": 0
      },
      "text/plain": [
       "Predicting: 18it [00:00, ?it/s]"
      ]
     },
     "metadata": {},
     "output_type": "display_data"
    },
    {
     "data": {
      "application/vnd.jupyter.widget-view+json": {
       "model_id": "bb234b4da0794931ac02dbd3cabfc409",
       "version_major": 2,
       "version_minor": 0
      },
      "text/plain": [
       "Training: 0it [00:00, ?it/s]"
      ]
     },
     "metadata": {},
     "output_type": "display_data"
    },
    {
     "data": {
      "application/vnd.jupyter.widget-view+json": {
       "model_id": "e3698cb15e724a9086c5f4fa45f2f2f9",
       "version_major": 2,
       "version_minor": 0
      },
      "text/plain": [
       "Predicting: 18it [00:00, ?it/s]"
      ]
     },
     "metadata": {},
     "output_type": "display_data"
    },
    {
     "data": {
      "application/vnd.jupyter.widget-view+json": {
       "model_id": "15281ab971384914aa5a58d45c1db94b",
       "version_major": 2,
       "version_minor": 0
      },
      "text/plain": [
       "Training: 0it [00:00, ?it/s]"
      ]
     },
     "metadata": {},
     "output_type": "display_data"
    },
    {
     "data": {
      "application/vnd.jupyter.widget-view+json": {
       "model_id": "706ebb0a15a9434ca135abfa9f160386",
       "version_major": 2,
       "version_minor": 0
      },
      "text/plain": [
       "Predicting: 18it [00:00, ?it/s]"
      ]
     },
     "metadata": {},
     "output_type": "display_data"
    },
    {
     "data": {
      "application/vnd.jupyter.widget-view+json": {
       "model_id": "f9484b7c7e9343d18560fca5742affc9",
       "version_major": 2,
       "version_minor": 0
      },
      "text/plain": [
       "Training: 0it [00:00, ?it/s]"
      ]
     },
     "metadata": {},
     "output_type": "display_data"
    },
    {
     "data": {
      "application/vnd.jupyter.widget-view+json": {
       "model_id": "e5cb1bc51d164a68bef67baa36a226a7",
       "version_major": 2,
       "version_minor": 0
      },
      "text/plain": [
       "Predicting: 18it [00:00, ?it/s]"
      ]
     },
     "metadata": {},
     "output_type": "display_data"
    },
    {
     "data": {
      "application/vnd.jupyter.widget-view+json": {
       "model_id": "09dadd1ec0794e1c8262e1fcf85187d0",
       "version_major": 2,
       "version_minor": 0
      },
      "text/plain": [
       "Training: 0it [00:00, ?it/s]"
      ]
     },
     "metadata": {},
     "output_type": "display_data"
    },
    {
     "data": {
      "application/vnd.jupyter.widget-view+json": {
       "model_id": "ffc9f52e08864b1cb07af15043d9214d",
       "version_major": 2,
       "version_minor": 0
      },
      "text/plain": [
       "Predicting: 18it [00:00, ?it/s]"
      ]
     },
     "metadata": {},
     "output_type": "display_data"
    },
    {
     "data": {
      "application/vnd.jupyter.widget-view+json": {
       "model_id": "47c45f49b99e4b3f826d1c1a9af3db40",
       "version_major": 2,
       "version_minor": 0
      },
      "text/plain": [
       "Training: 0it [00:00, ?it/s]"
      ]
     },
     "metadata": {},
     "output_type": "display_data"
    },
    {
     "data": {
      "application/vnd.jupyter.widget-view+json": {
       "model_id": "ca2828c7ddba47509731abab97da5930",
       "version_major": 2,
       "version_minor": 0
      },
      "text/plain": [
       "Predicting: 18it [00:00, ?it/s]"
      ]
     },
     "metadata": {},
     "output_type": "display_data"
    },
    {
     "data": {
      "application/vnd.jupyter.widget-view+json": {
       "model_id": "4bea1ff672574899b1be59d48307a100",
       "version_major": 2,
       "version_minor": 0
      },
      "text/plain": [
       "Training: 0it [00:00, ?it/s]"
      ]
     },
     "metadata": {},
     "output_type": "display_data"
    },
    {
     "data": {
      "application/vnd.jupyter.widget-view+json": {
       "model_id": "9740fcca0be2443a92a31e1d8484b9b1",
       "version_major": 2,
       "version_minor": 0
      },
      "text/plain": [
       "Predicting: 18it [00:00, ?it/s]"
      ]
     },
     "metadata": {},
     "output_type": "display_data"
    },
    {
     "data": {
      "application/vnd.jupyter.widget-view+json": {
       "model_id": "5ec5e4f19f7e4c6092576b93acd202cb",
       "version_major": 2,
       "version_minor": 0
      },
      "text/plain": [
       "Training: 0it [00:00, ?it/s]"
      ]
     },
     "metadata": {},
     "output_type": "display_data"
    },
    {
     "data": {
      "application/vnd.jupyter.widget-view+json": {
       "model_id": "79effdf1b33e4ab1aa5cd3f027256951",
       "version_major": 2,
       "version_minor": 0
      },
      "text/plain": [
       "Predicting: 18it [00:00, ?it/s]"
      ]
     },
     "metadata": {},
     "output_type": "display_data"
    },
    {
     "data": {
      "application/vnd.jupyter.widget-view+json": {
       "model_id": "92f090f0262348c0b467da77cbc8aa2d",
       "version_major": 2,
       "version_minor": 0
      },
      "text/plain": [
       "Training: 0it [00:00, ?it/s]"
      ]
     },
     "metadata": {},
     "output_type": "display_data"
    },
    {
     "data": {
      "application/vnd.jupyter.widget-view+json": {
       "model_id": "1cea056ec8884d43a9a0852df6a0502e",
       "version_major": 2,
       "version_minor": 0
      },
      "text/plain": [
       "Predicting: 18it [00:00, ?it/s]"
      ]
     },
     "metadata": {},
     "output_type": "display_data"
    },
    {
     "data": {
      "application/vnd.jupyter.widget-view+json": {
       "model_id": "e99085c165784e3b9ef56d820c1a38a3",
       "version_major": 2,
       "version_minor": 0
      },
      "text/plain": [
       "Training: 0it [00:00, ?it/s]"
      ]
     },
     "metadata": {},
     "output_type": "display_data"
    },
    {
     "data": {
      "application/vnd.jupyter.widget-view+json": {
       "model_id": "c06074c86ddb4e9b92263fef3344156a",
       "version_major": 2,
       "version_minor": 0
      },
      "text/plain": [
       "Predicting: 18it [00:00, ?it/s]"
      ]
     },
     "metadata": {},
     "output_type": "display_data"
    },
    {
     "data": {
      "application/vnd.jupyter.widget-view+json": {
       "model_id": "0d7f5febb3ef4e3eb26b41052433650e",
       "version_major": 2,
       "version_minor": 0
      },
      "text/plain": [
       "Training: 0it [00:00, ?it/s]"
      ]
     },
     "metadata": {},
     "output_type": "display_data"
    },
    {
     "data": {
      "application/vnd.jupyter.widget-view+json": {
       "model_id": "c0cff8010f3544ab92c478a100e06bca",
       "version_major": 2,
       "version_minor": 0
      },
      "text/plain": [
       "Predicting: 18it [00:00, ?it/s]"
      ]
     },
     "metadata": {},
     "output_type": "display_data"
    },
    {
     "data": {
      "application/vnd.jupyter.widget-view+json": {
       "model_id": "0ffd9ef974c74811996f4abc891166d3",
       "version_major": 2,
       "version_minor": 0
      },
      "text/plain": [
       "Training: 0it [00:00, ?it/s]"
      ]
     },
     "metadata": {},
     "output_type": "display_data"
    },
    {
     "data": {
      "application/vnd.jupyter.widget-view+json": {
       "model_id": "8b6c05ea74c6422fb9300d86b75ec546",
       "version_major": 2,
       "version_minor": 0
      },
      "text/plain": [
       "Predicting: 18it [00:00, ?it/s]"
      ]
     },
     "metadata": {},
     "output_type": "display_data"
    },
    {
     "data": {
      "application/vnd.jupyter.widget-view+json": {
       "model_id": "2c5ad5e336df4bd898dc903c04ca1407",
       "version_major": 2,
       "version_minor": 0
      },
      "text/plain": [
       "Training: 0it [00:00, ?it/s]"
      ]
     },
     "metadata": {},
     "output_type": "display_data"
    },
    {
     "data": {
      "application/vnd.jupyter.widget-view+json": {
       "model_id": "01eefa5809854705bee461259bcd43d9",
       "version_major": 2,
       "version_minor": 0
      },
      "text/plain": [
       "Predicting: 18it [00:00, ?it/s]"
      ]
     },
     "metadata": {},
     "output_type": "display_data"
    },
    {
     "data": {
      "application/vnd.jupyter.widget-view+json": {
       "model_id": "fa9c52cb9f7840099f994cffbd0ca13f",
       "version_major": 2,
       "version_minor": 0
      },
      "text/plain": [
       "Training: 0it [00:00, ?it/s]"
      ]
     },
     "metadata": {},
     "output_type": "display_data"
    },
    {
     "data": {
      "application/vnd.jupyter.widget-view+json": {
       "model_id": "b539a735e57444eda3ca62a031e6e06f",
       "version_major": 2,
       "version_minor": 0
      },
      "text/plain": [
       "Predicting: 18it [00:00, ?it/s]"
      ]
     },
     "metadata": {},
     "output_type": "display_data"
    },
    {
     "data": {
      "application/vnd.jupyter.widget-view+json": {
       "model_id": "8725ea7aadda48cdb8251acda05a3fff",
       "version_major": 2,
       "version_minor": 0
      },
      "text/plain": [
       "Training: 0it [00:00, ?it/s]"
      ]
     },
     "metadata": {},
     "output_type": "display_data"
    },
    {
     "data": {
      "application/vnd.jupyter.widget-view+json": {
       "model_id": "0964011d7cdb4813967318c12ae36315",
       "version_major": 2,
       "version_minor": 0
      },
      "text/plain": [
       "Predicting: 18it [00:00, ?it/s]"
      ]
     },
     "metadata": {},
     "output_type": "display_data"
    },
    {
     "data": {
      "application/vnd.jupyter.widget-view+json": {
       "model_id": "991b2aef4e5a40d7ae951421b008ef95",
       "version_major": 2,
       "version_minor": 0
      },
      "text/plain": [
       "Training: 0it [00:00, ?it/s]"
      ]
     },
     "metadata": {},
     "output_type": "display_data"
    },
    {
     "data": {
      "application/vnd.jupyter.widget-view+json": {
       "model_id": "23afeae4a63946a6b9641ea5749e26cd",
       "version_major": 2,
       "version_minor": 0
      },
      "text/plain": [
       "Predicting: 18it [00:00, ?it/s]"
      ]
     },
     "metadata": {},
     "output_type": "display_data"
    },
    {
     "data": {
      "application/vnd.jupyter.widget-view+json": {
       "model_id": "514541c26df84bec9dd6bee7b140543e",
       "version_major": 2,
       "version_minor": 0
      },
      "text/plain": [
       "Training: 0it [00:00, ?it/s]"
      ]
     },
     "metadata": {},
     "output_type": "display_data"
    },
    {
     "data": {
      "application/vnd.jupyter.widget-view+json": {
       "model_id": "0f20149ff02e4cc49755f32f60fd9331",
       "version_major": 2,
       "version_minor": 0
      },
      "text/plain": [
       "Predicting: 18it [00:00, ?it/s]"
      ]
     },
     "metadata": {},
     "output_type": "display_data"
    },
    {
     "data": {
      "application/vnd.jupyter.widget-view+json": {
       "model_id": "7bc3c646fdb54497a2bcfb5be68ca2a9",
       "version_major": 2,
       "version_minor": 0
      },
      "text/plain": [
       "Training: 0it [00:00, ?it/s]"
      ]
     },
     "metadata": {},
     "output_type": "display_data"
    },
    {
     "data": {
      "application/vnd.jupyter.widget-view+json": {
       "model_id": "e771b3f9bc224dd3a1b19c68920dc64d",
       "version_major": 2,
       "version_minor": 0
      },
      "text/plain": [
       "Predicting: 18it [00:00, ?it/s]"
      ]
     },
     "metadata": {},
     "output_type": "display_data"
    },
    {
     "data": {
      "application/vnd.jupyter.widget-view+json": {
       "model_id": "f7f9f7e213bd45409f1622122ccf164d",
       "version_major": 2,
       "version_minor": 0
      },
      "text/plain": [
       "Training: 0it [00:00, ?it/s]"
      ]
     },
     "metadata": {},
     "output_type": "display_data"
    },
    {
     "data": {
      "application/vnd.jupyter.widget-view+json": {
       "model_id": "1d1e296c02f54674bd3d0b82ff9d72fe",
       "version_major": 2,
       "version_minor": 0
      },
      "text/plain": [
       "Predicting: 18it [00:00, ?it/s]"
      ]
     },
     "metadata": {},
     "output_type": "display_data"
    },
    {
     "data": {
      "application/vnd.jupyter.widget-view+json": {
       "model_id": "df72127fa15e4e9fbff6c4560862f106",
       "version_major": 2,
       "version_minor": 0
      },
      "text/plain": [
       "Training: 0it [00:00, ?it/s]"
      ]
     },
     "metadata": {},
     "output_type": "display_data"
    },
    {
     "data": {
      "application/vnd.jupyter.widget-view+json": {
       "model_id": "e1facd2cee9b437f8b0791648a89a069",
       "version_major": 2,
       "version_minor": 0
      },
      "text/plain": [
       "Predicting: 18it [00:00, ?it/s]"
      ]
     },
     "metadata": {},
     "output_type": "display_data"
    },
    {
     "data": {
      "application/vnd.jupyter.widget-view+json": {
       "model_id": "e04a7e3fa4ee4c9f967d312daae32558",
       "version_major": 2,
       "version_minor": 0
      },
      "text/plain": [
       "Training: 0it [00:00, ?it/s]"
      ]
     },
     "metadata": {},
     "output_type": "display_data"
    },
    {
     "data": {
      "application/vnd.jupyter.widget-view+json": {
       "model_id": "d3353f9938c74fa6b8d7367a0787d4c0",
       "version_major": 2,
       "version_minor": 0
      },
      "text/plain": [
       "Predicting: 18it [00:00, ?it/s]"
      ]
     },
     "metadata": {},
     "output_type": "display_data"
    },
    {
     "data": {
      "application/vnd.jupyter.widget-view+json": {
       "model_id": "d247023618df43a5a3fcb29a6b1eee29",
       "version_major": 2,
       "version_minor": 0
      },
      "text/plain": [
       "Training: 0it [00:00, ?it/s]"
      ]
     },
     "metadata": {},
     "output_type": "display_data"
    },
    {
     "data": {
      "application/vnd.jupyter.widget-view+json": {
       "model_id": "5a3d2af0772e4c6db1e8b7cda8534323",
       "version_major": 2,
       "version_minor": 0
      },
      "text/plain": [
       "Predicting: 18it [00:00, ?it/s]"
      ]
     },
     "metadata": {},
     "output_type": "display_data"
    },
    {
     "data": {
      "application/vnd.jupyter.widget-view+json": {
       "model_id": "48e88458a3764a0ebf1233c9e82646a0",
       "version_major": 2,
       "version_minor": 0
      },
      "text/plain": [
       "Training: 0it [00:00, ?it/s]"
      ]
     },
     "metadata": {},
     "output_type": "display_data"
    },
    {
     "data": {
      "application/vnd.jupyter.widget-view+json": {
       "model_id": "c6fcd68ecff646888d2f424c3f1e4740",
       "version_major": 2,
       "version_minor": 0
      },
      "text/plain": [
       "Predicting: 18it [00:00, ?it/s]"
      ]
     },
     "metadata": {},
     "output_type": "display_data"
    },
    {
     "data": {
      "application/vnd.jupyter.widget-view+json": {
       "model_id": "dfeb19b58488496f9f24d5af22802e62",
       "version_major": 2,
       "version_minor": 0
      },
      "text/plain": [
       "Training: 0it [00:00, ?it/s]"
      ]
     },
     "metadata": {},
     "output_type": "display_data"
    },
    {
     "data": {
      "application/vnd.jupyter.widget-view+json": {
       "model_id": "b5b47a68e5714d63acef20ac9f0581bc",
       "version_major": 2,
       "version_minor": 0
      },
      "text/plain": [
       "Predicting: 18it [00:00, ?it/s]"
      ]
     },
     "metadata": {},
     "output_type": "display_data"
    },
    {
     "data": {
      "application/vnd.jupyter.widget-view+json": {
       "model_id": "dc5982917af24e5c9ff6f3b59e61b20c",
       "version_major": 2,
       "version_minor": 0
      },
      "text/plain": [
       "Training: 0it [00:00, ?it/s]"
      ]
     },
     "metadata": {},
     "output_type": "display_data"
    },
    {
     "data": {
      "application/vnd.jupyter.widget-view+json": {
       "model_id": "126f8809957a48818487c2f1ec12f831",
       "version_major": 2,
       "version_minor": 0
      },
      "text/plain": [
       "Predicting: 18it [00:00, ?it/s]"
      ]
     },
     "metadata": {},
     "output_type": "display_data"
    },
    {
     "data": {
      "application/vnd.jupyter.widget-view+json": {
       "model_id": "b421f0bbaa9944d1a6ac938d1baacddf",
       "version_major": 2,
       "version_minor": 0
      },
      "text/plain": [
       "Training: 0it [00:00, ?it/s]"
      ]
     },
     "metadata": {},
     "output_type": "display_data"
    },
    {
     "data": {
      "application/vnd.jupyter.widget-view+json": {
       "model_id": "ca5bb1fc199d4a85b2d04983af3d1462",
       "version_major": 2,
       "version_minor": 0
      },
      "text/plain": [
       "Predicting: 18it [00:00, ?it/s]"
      ]
     },
     "metadata": {},
     "output_type": "display_data"
    },
    {
     "data": {
      "application/vnd.jupyter.widget-view+json": {
       "model_id": "492d8966d1b645789fdf7a1f00d12e5e",
       "version_major": 2,
       "version_minor": 0
      },
      "text/plain": [
       "Training: 0it [00:00, ?it/s]"
      ]
     },
     "metadata": {},
     "output_type": "display_data"
    },
    {
     "data": {
      "application/vnd.jupyter.widget-view+json": {
       "model_id": "d25c4adc5f374c25b35735b6e9e25c26",
       "version_major": 2,
       "version_minor": 0
      },
      "text/plain": [
       "Predicting: 18it [00:00, ?it/s]"
      ]
     },
     "metadata": {},
     "output_type": "display_data"
    },
    {
     "data": {
      "application/vnd.jupyter.widget-view+json": {
       "model_id": "3a168a09d62c4f058b36f11ec93a721f",
       "version_major": 2,
       "version_minor": 0
      },
      "text/plain": [
       "Training: 0it [00:00, ?it/s]"
      ]
     },
     "metadata": {},
     "output_type": "display_data"
    },
    {
     "data": {
      "application/vnd.jupyter.widget-view+json": {
       "model_id": "89e1f46a01874f0c95d74b42c9cdce0d",
       "version_major": 2,
       "version_minor": 0
      },
      "text/plain": [
       "Predicting: 18it [00:00, ?it/s]"
      ]
     },
     "metadata": {},
     "output_type": "display_data"
    },
    {
     "data": {
      "application/vnd.jupyter.widget-view+json": {
       "model_id": "a8d9b75ca214483f81b9491733d93c3d",
       "version_major": 2,
       "version_minor": 0
      },
      "text/plain": [
       "Training: 0it [00:00, ?it/s]"
      ]
     },
     "metadata": {},
     "output_type": "display_data"
    },
    {
     "data": {
      "application/vnd.jupyter.widget-view+json": {
       "model_id": "7b723e6d4be04727b02ae1df20a02e18",
       "version_major": 2,
       "version_minor": 0
      },
      "text/plain": [
       "Predicting: 18it [00:00, ?it/s]"
      ]
     },
     "metadata": {},
     "output_type": "display_data"
    },
    {
     "data": {
      "application/vnd.jupyter.widget-view+json": {
       "model_id": "0fdfb0ec65384d58a322f9ccb2c14227",
       "version_major": 2,
       "version_minor": 0
      },
      "text/plain": [
       "Training: 0it [00:00, ?it/s]"
      ]
     },
     "metadata": {},
     "output_type": "display_data"
    },
    {
     "data": {
      "application/vnd.jupyter.widget-view+json": {
       "model_id": "048810ddf6894b859c05d0b011d0f8f1",
       "version_major": 2,
       "version_minor": 0
      },
      "text/plain": [
       "Predicting: 18it [00:00, ?it/s]"
      ]
     },
     "metadata": {},
     "output_type": "display_data"
    },
    {
     "data": {
      "application/vnd.jupyter.widget-view+json": {
       "model_id": "0ce8fc3c4f7d47ef84d89f66291d1200",
       "version_major": 2,
       "version_minor": 0
      },
      "text/plain": [
       "Training: 0it [00:00, ?it/s]"
      ]
     },
     "metadata": {},
     "output_type": "display_data"
    },
    {
     "data": {
      "application/vnd.jupyter.widget-view+json": {
       "model_id": "17ceb863f92d4c8fa765e62d7ac292f1",
       "version_major": 2,
       "version_minor": 0
      },
      "text/plain": [
       "Predicting: 17it [00:00, ?it/s]"
      ]
     },
     "metadata": {},
     "output_type": "display_data"
    },
    {
     "data": {
      "application/vnd.jupyter.widget-view+json": {
       "model_id": "7afc6b79a4e945e29f84c7abb6f31ddc",
       "version_major": 2,
       "version_minor": 0
      },
      "text/plain": [
       "Training: 0it [00:00, ?it/s]"
      ]
     },
     "metadata": {},
     "output_type": "display_data"
    },
    {
     "data": {
      "application/vnd.jupyter.widget-view+json": {
       "model_id": "2b060fe4841947f582a2c8f197802063",
       "version_major": 2,
       "version_minor": 0
      },
      "text/plain": [
       "Predicting: 17it [00:00, ?it/s]"
      ]
     },
     "metadata": {},
     "output_type": "display_data"
    },
    {
     "data": {
      "application/vnd.jupyter.widget-view+json": {
       "model_id": "f9bc891f6e1e433b8850b4724a007f47",
       "version_major": 2,
       "version_minor": 0
      },
      "text/plain": [
       "Training: 0it [00:00, ?it/s]"
      ]
     },
     "metadata": {},
     "output_type": "display_data"
    },
    {
     "data": {
      "application/vnd.jupyter.widget-view+json": {
       "model_id": "4b624a0986e24a1593abe3deb8c9ec58",
       "version_major": 2,
       "version_minor": 0
      },
      "text/plain": [
       "Predicting: 17it [00:00, ?it/s]"
      ]
     },
     "metadata": {},
     "output_type": "display_data"
    },
    {
     "data": {
      "application/vnd.jupyter.widget-view+json": {
       "model_id": "205b5cca27444b90a88afc30b0ce3bb2",
       "version_major": 2,
       "version_minor": 0
      },
      "text/plain": [
       "Training: 0it [00:00, ?it/s]"
      ]
     },
     "metadata": {},
     "output_type": "display_data"
    },
    {
     "data": {
      "application/vnd.jupyter.widget-view+json": {
       "model_id": "c35f0edb12f449399debcebc0f6f83a4",
       "version_major": 2,
       "version_minor": 0
      },
      "text/plain": [
       "Predicting: 17it [00:00, ?it/s]"
      ]
     },
     "metadata": {},
     "output_type": "display_data"
    },
    {
     "data": {
      "application/vnd.jupyter.widget-view+json": {
       "model_id": "6cd3dd41581d47a4b426edf9c40c150e",
       "version_major": 2,
       "version_minor": 0
      },
      "text/plain": [
       "Training: 0it [00:00, ?it/s]"
      ]
     },
     "metadata": {},
     "output_type": "display_data"
    },
    {
     "data": {
      "application/vnd.jupyter.widget-view+json": {
       "model_id": "e1aa5c99840947e09c18a258a26c141e",
       "version_major": 2,
       "version_minor": 0
      },
      "text/plain": [
       "Predicting: 17it [00:00, ?it/s]"
      ]
     },
     "metadata": {},
     "output_type": "display_data"
    },
    {
     "data": {
      "application/vnd.jupyter.widget-view+json": {
       "model_id": "fa652f38372c4b3a99710a2a8f08273c",
       "version_major": 2,
       "version_minor": 0
      },
      "text/plain": [
       "Training: 0it [00:00, ?it/s]"
      ]
     },
     "metadata": {},
     "output_type": "display_data"
    },
    {
     "data": {
      "application/vnd.jupyter.widget-view+json": {
       "model_id": "a4f552fcfa574a569104790389c19ad3",
       "version_major": 2,
       "version_minor": 0
      },
      "text/plain": [
       "Predicting: 17it [00:00, ?it/s]"
      ]
     },
     "metadata": {},
     "output_type": "display_data"
    },
    {
     "data": {
      "application/vnd.jupyter.widget-view+json": {
       "model_id": "907bcfc4004e4888a62ca8479599d473",
       "version_major": 2,
       "version_minor": 0
      },
      "text/plain": [
       "Training: 0it [00:00, ?it/s]"
      ]
     },
     "metadata": {},
     "output_type": "display_data"
    },
    {
     "data": {
      "application/vnd.jupyter.widget-view+json": {
       "model_id": "6e6b9bb0a1214c4a9b371adecf1ef450",
       "version_major": 2,
       "version_minor": 0
      },
      "text/plain": [
       "Predicting: 17it [00:00, ?it/s]"
      ]
     },
     "metadata": {},
     "output_type": "display_data"
    },
    {
     "data": {
      "application/vnd.jupyter.widget-view+json": {
       "model_id": "8577c80fca7e49a99a2a589a771471f9",
       "version_major": 2,
       "version_minor": 0
      },
      "text/plain": [
       "Training: 0it [00:00, ?it/s]"
      ]
     },
     "metadata": {},
     "output_type": "display_data"
    },
    {
     "data": {
      "application/vnd.jupyter.widget-view+json": {
       "model_id": "5fb41739c447411d9e121f020686c114",
       "version_major": 2,
       "version_minor": 0
      },
      "text/plain": [
       "Predicting: 17it [00:00, ?it/s]"
      ]
     },
     "metadata": {},
     "output_type": "display_data"
    },
    {
     "data": {
      "application/vnd.jupyter.widget-view+json": {
       "model_id": "f9fd92f7042c443e9e813f5f264b97d6",
       "version_major": 2,
       "version_minor": 0
      },
      "text/plain": [
       "Training: 0it [00:00, ?it/s]"
      ]
     },
     "metadata": {},
     "output_type": "display_data"
    },
    {
     "data": {
      "application/vnd.jupyter.widget-view+json": {
       "model_id": "454283b80c6f4edab2d9e4afabe57af9",
       "version_major": 2,
       "version_minor": 0
      },
      "text/plain": [
       "Predicting: 17it [00:00, ?it/s]"
      ]
     },
     "metadata": {},
     "output_type": "display_data"
    },
    {
     "data": {
      "application/vnd.jupyter.widget-view+json": {
       "model_id": "1155ae5e5a994a8eb79837ff72677407",
       "version_major": 2,
       "version_minor": 0
      },
      "text/plain": [
       "Training: 0it [00:00, ?it/s]"
      ]
     },
     "metadata": {},
     "output_type": "display_data"
    },
    {
     "data": {
      "application/vnd.jupyter.widget-view+json": {
       "model_id": "b9a913c7ce56433e8f20c69399b04c43",
       "version_major": 2,
       "version_minor": 0
      },
      "text/plain": [
       "Predicting: 17it [00:00, ?it/s]"
      ]
     },
     "metadata": {},
     "output_type": "display_data"
    },
    {
     "data": {
      "application/vnd.jupyter.widget-view+json": {
       "model_id": "4c8babccb963457f8398924a4dc490ce",
       "version_major": 2,
       "version_minor": 0
      },
      "text/plain": [
       "Training: 0it [00:00, ?it/s]"
      ]
     },
     "metadata": {},
     "output_type": "display_data"
    },
    {
     "data": {
      "application/vnd.jupyter.widget-view+json": {
       "model_id": "9c0317cbe4e847fb84c38e856bf40dc4",
       "version_major": 2,
       "version_minor": 0
      },
      "text/plain": [
       "Predicting: 17it [00:00, ?it/s]"
      ]
     },
     "metadata": {},
     "output_type": "display_data"
    },
    {
     "data": {
      "application/vnd.jupyter.widget-view+json": {
       "model_id": "5c6dbd44adaf4129b5daebab52e91163",
       "version_major": 2,
       "version_minor": 0
      },
      "text/plain": [
       "Training: 0it [00:00, ?it/s]"
      ]
     },
     "metadata": {},
     "output_type": "display_data"
    },
    {
     "data": {
      "application/vnd.jupyter.widget-view+json": {
       "model_id": "a7f643941ec74f76b6112b95685afc3c",
       "version_major": 2,
       "version_minor": 0
      },
      "text/plain": [
       "Predicting: 17it [00:00, ?it/s]"
      ]
     },
     "metadata": {},
     "output_type": "display_data"
    },
    {
     "data": {
      "application/vnd.jupyter.widget-view+json": {
       "model_id": "e9d4073fb6434565af16783b57b2de6b",
       "version_major": 2,
       "version_minor": 0
      },
      "text/plain": [
       "Training: 0it [00:00, ?it/s]"
      ]
     },
     "metadata": {},
     "output_type": "display_data"
    },
    {
     "data": {
      "application/vnd.jupyter.widget-view+json": {
       "model_id": "a9886b2b35904c92a6d67b5a210b62b3",
       "version_major": 2,
       "version_minor": 0
      },
      "text/plain": [
       "Predicting: 17it [00:00, ?it/s]"
      ]
     },
     "metadata": {},
     "output_type": "display_data"
    },
    {
     "data": {
      "application/vnd.jupyter.widget-view+json": {
       "model_id": "2c55bf904f284ea7ac766e94d55fd096",
       "version_major": 2,
       "version_minor": 0
      },
      "text/plain": [
       "Training: 0it [00:00, ?it/s]"
      ]
     },
     "metadata": {},
     "output_type": "display_data"
    },
    {
     "data": {
      "application/vnd.jupyter.widget-view+json": {
       "model_id": "eeebbe6511c9414d83d9082f6d53cace",
       "version_major": 2,
       "version_minor": 0
      },
      "text/plain": [
       "Predicting: 17it [00:00, ?it/s]"
      ]
     },
     "metadata": {},
     "output_type": "display_data"
    },
    {
     "data": {
      "application/vnd.jupyter.widget-view+json": {
       "model_id": "c9ac346edc3349e1bfb2b7625e460841",
       "version_major": 2,
       "version_minor": 0
      },
      "text/plain": [
       "Training: 0it [00:00, ?it/s]"
      ]
     },
     "metadata": {},
     "output_type": "display_data"
    },
    {
     "data": {
      "application/vnd.jupyter.widget-view+json": {
       "model_id": "d894cb051381467792a4456b5410a623",
       "version_major": 2,
       "version_minor": 0
      },
      "text/plain": [
       "Predicting: 17it [00:00, ?it/s]"
      ]
     },
     "metadata": {},
     "output_type": "display_data"
    },
    {
     "data": {
      "application/vnd.jupyter.widget-view+json": {
       "model_id": "81245524a47249afa46d80a9cfd6409f",
       "version_major": 2,
       "version_minor": 0
      },
      "text/plain": [
       "Training: 0it [00:00, ?it/s]"
      ]
     },
     "metadata": {},
     "output_type": "display_data"
    },
    {
     "data": {
      "application/vnd.jupyter.widget-view+json": {
       "model_id": "43826901aa364b3bb856a01d0a610da8",
       "version_major": 2,
       "version_minor": 0
      },
      "text/plain": [
       "Predicting: 17it [00:00, ?it/s]"
      ]
     },
     "metadata": {},
     "output_type": "display_data"
    },
    {
     "data": {
      "application/vnd.jupyter.widget-view+json": {
       "model_id": "d357997b39f34e50b9304586d897e81a",
       "version_major": 2,
       "version_minor": 0
      },
      "text/plain": [
       "Training: 0it [00:00, ?it/s]"
      ]
     },
     "metadata": {},
     "output_type": "display_data"
    },
    {
     "data": {
      "application/vnd.jupyter.widget-view+json": {
       "model_id": "47a6d23ac58a484f9cf572851c53738e",
       "version_major": 2,
       "version_minor": 0
      },
      "text/plain": [
       "Predicting: 17it [00:00, ?it/s]"
      ]
     },
     "metadata": {},
     "output_type": "display_data"
    },
    {
     "data": {
      "application/vnd.jupyter.widget-view+json": {
       "model_id": "f909f0c80c1e40ab8e054a960d3d6005",
       "version_major": 2,
       "version_minor": 0
      },
      "text/plain": [
       "Training: 0it [00:00, ?it/s]"
      ]
     },
     "metadata": {},
     "output_type": "display_data"
    },
    {
     "data": {
      "application/vnd.jupyter.widget-view+json": {
       "model_id": "2a7d155d4602458982cf7514a86fe54d",
       "version_major": 2,
       "version_minor": 0
      },
      "text/plain": [
       "Predicting: 17it [00:00, ?it/s]"
      ]
     },
     "metadata": {},
     "output_type": "display_data"
    },
    {
     "data": {
      "application/vnd.jupyter.widget-view+json": {
       "model_id": "43aa513743c54f37bb8869f372853509",
       "version_major": 2,
       "version_minor": 0
      },
      "text/plain": [
       "Training: 0it [00:00, ?it/s]"
      ]
     },
     "metadata": {},
     "output_type": "display_data"
    },
    {
     "data": {
      "application/vnd.jupyter.widget-view+json": {
       "model_id": "4cbc5ae0a16e43f39c966415a13da2ba",
       "version_major": 2,
       "version_minor": 0
      },
      "text/plain": [
       "Predicting: 17it [00:00, ?it/s]"
      ]
     },
     "metadata": {},
     "output_type": "display_data"
    },
    {
     "data": {
      "application/vnd.jupyter.widget-view+json": {
       "model_id": "60030d5ce658459eb3a1e528d4646184",
       "version_major": 2,
       "version_minor": 0
      },
      "text/plain": [
       "Training: 0it [00:00, ?it/s]"
      ]
     },
     "metadata": {},
     "output_type": "display_data"
    },
    {
     "data": {
      "application/vnd.jupyter.widget-view+json": {
       "model_id": "6076bab88212455185a4050f386fef3a",
       "version_major": 2,
       "version_minor": 0
      },
      "text/plain": [
       "Predicting: 17it [00:00, ?it/s]"
      ]
     },
     "metadata": {},
     "output_type": "display_data"
    },
    {
     "data": {
      "application/vnd.jupyter.widget-view+json": {
       "model_id": "239d2f8dbff247e3aa9e0e21db962082",
       "version_major": 2,
       "version_minor": 0
      },
      "text/plain": [
       "Training: 0it [00:00, ?it/s]"
      ]
     },
     "metadata": {},
     "output_type": "display_data"
    },
    {
     "data": {
      "application/vnd.jupyter.widget-view+json": {
       "model_id": "943b756ab6444a91bb77db8d96b10242",
       "version_major": 2,
       "version_minor": 0
      },
      "text/plain": [
       "Predicting: 17it [00:00, ?it/s]"
      ]
     },
     "metadata": {},
     "output_type": "display_data"
    },
    {
     "data": {
      "application/vnd.jupyter.widget-view+json": {
       "model_id": "d1f61a4cf95d447e8435666b891c4eb3",
       "version_major": 2,
       "version_minor": 0
      },
      "text/plain": [
       "Training: 0it [00:00, ?it/s]"
      ]
     },
     "metadata": {},
     "output_type": "display_data"
    },
    {
     "data": {
      "application/vnd.jupyter.widget-view+json": {
       "model_id": "48256fef974b44abb571908522cd2e96",
       "version_major": 2,
       "version_minor": 0
      },
      "text/plain": [
       "Predicting: 17it [00:00, ?it/s]"
      ]
     },
     "metadata": {},
     "output_type": "display_data"
    },
    {
     "data": {
      "application/vnd.jupyter.widget-view+json": {
       "model_id": "4a4d7f587189418a9ca348e0988be994",
       "version_major": 2,
       "version_minor": 0
      },
      "text/plain": [
       "Training: 0it [00:00, ?it/s]"
      ]
     },
     "metadata": {},
     "output_type": "display_data"
    },
    {
     "data": {
      "application/vnd.jupyter.widget-view+json": {
       "model_id": "956e9a526006455f9963936c5917c70b",
       "version_major": 2,
       "version_minor": 0
      },
      "text/plain": [
       "Predicting: 17it [00:00, ?it/s]"
      ]
     },
     "metadata": {},
     "output_type": "display_data"
    },
    {
     "data": {
      "application/vnd.jupyter.widget-view+json": {
       "model_id": "5050a0cefc474fc097037e2ea0165974",
       "version_major": 2,
       "version_minor": 0
      },
      "text/plain": [
       "Training: 0it [00:00, ?it/s]"
      ]
     },
     "metadata": {},
     "output_type": "display_data"
    },
    {
     "data": {
      "application/vnd.jupyter.widget-view+json": {
       "model_id": "a73f3e050cf744d99257dbc0ccbe367e",
       "version_major": 2,
       "version_minor": 0
      },
      "text/plain": [
       "Predicting: 17it [00:00, ?it/s]"
      ]
     },
     "metadata": {},
     "output_type": "display_data"
    },
    {
     "data": {
      "application/vnd.jupyter.widget-view+json": {
       "model_id": "53207cc78ebe46d3a826d75f62237b94",
       "version_major": 2,
       "version_minor": 0
      },
      "text/plain": [
       "Training: 0it [00:00, ?it/s]"
      ]
     },
     "metadata": {},
     "output_type": "display_data"
    },
    {
     "data": {
      "application/vnd.jupyter.widget-view+json": {
       "model_id": "01b837f196334a23b285d5d1e3ac3b2e",
       "version_major": 2,
       "version_minor": 0
      },
      "text/plain": [
       "Predicting: 17it [00:00, ?it/s]"
      ]
     },
     "metadata": {},
     "output_type": "display_data"
    },
    {
     "data": {
      "application/vnd.jupyter.widget-view+json": {
       "model_id": "ffa099b7c2794c4d99d93419155125b0",
       "version_major": 2,
       "version_minor": 0
      },
      "text/plain": [
       "Training: 0it [00:00, ?it/s]"
      ]
     },
     "metadata": {},
     "output_type": "display_data"
    },
    {
     "data": {
      "application/vnd.jupyter.widget-view+json": {
       "model_id": "972182db4a544bf3a990f1a1d1669a7e",
       "version_major": 2,
       "version_minor": 0
      },
      "text/plain": [
       "Predicting: 17it [00:00, ?it/s]"
      ]
     },
     "metadata": {},
     "output_type": "display_data"
    },
    {
     "data": {
      "application/vnd.jupyter.widget-view+json": {
       "model_id": "68dd2c20850c4fbeb818da6aa9e438d7",
       "version_major": 2,
       "version_minor": 0
      },
      "text/plain": [
       "Training: 0it [00:00, ?it/s]"
      ]
     },
     "metadata": {},
     "output_type": "display_data"
    },
    {
     "data": {
      "application/vnd.jupyter.widget-view+json": {
       "model_id": "9eb6933daa4d4465a4aa2527a2c02db5",
       "version_major": 2,
       "version_minor": 0
      },
      "text/plain": [
       "Predicting: 17it [00:00, ?it/s]"
      ]
     },
     "metadata": {},
     "output_type": "display_data"
    },
    {
     "data": {
      "application/vnd.jupyter.widget-view+json": {
       "model_id": "e90a221321e6480da8395cf5fbab1e20",
       "version_major": 2,
       "version_minor": 0
      },
      "text/plain": [
       "Training: 0it [00:00, ?it/s]"
      ]
     },
     "metadata": {},
     "output_type": "display_data"
    },
    {
     "data": {
      "application/vnd.jupyter.widget-view+json": {
       "model_id": "630d3592d03c48b2a86a0932d0f40335",
       "version_major": 2,
       "version_minor": 0
      },
      "text/plain": [
       "Predicting: 17it [00:00, ?it/s]"
      ]
     },
     "metadata": {},
     "output_type": "display_data"
    },
    {
     "data": {
      "application/vnd.jupyter.widget-view+json": {
       "model_id": "7f34cf57122348469f3207df7adf2155",
       "version_major": 2,
       "version_minor": 0
      },
      "text/plain": [
       "Training: 0it [00:00, ?it/s]"
      ]
     },
     "metadata": {},
     "output_type": "display_data"
    },
    {
     "data": {
      "application/vnd.jupyter.widget-view+json": {
       "model_id": "2850764ca60b4f24917085824f42ab57",
       "version_major": 2,
       "version_minor": 0
      },
      "text/plain": [
       "Predicting: 17it [00:00, ?it/s]"
      ]
     },
     "metadata": {},
     "output_type": "display_data"
    },
    {
     "data": {
      "application/vnd.jupyter.widget-view+json": {
       "model_id": "7a03f83562744e8dbdf37f72140bb54e",
       "version_major": 2,
       "version_minor": 0
      },
      "text/plain": [
       "Training: 0it [00:00, ?it/s]"
      ]
     },
     "metadata": {},
     "output_type": "display_data"
    },
    {
     "data": {
      "application/vnd.jupyter.widget-view+json": {
       "model_id": "6bc2279ebdf84e17b14c33d18feb12de",
       "version_major": 2,
       "version_minor": 0
      },
      "text/plain": [
       "Predicting: 17it [00:00, ?it/s]"
      ]
     },
     "metadata": {},
     "output_type": "display_data"
    },
    {
     "data": {
      "application/vnd.jupyter.widget-view+json": {
       "model_id": "6139847bd4774818bd3e9e81e76d6a66",
       "version_major": 2,
       "version_minor": 0
      },
      "text/plain": [
       "Training: 0it [00:00, ?it/s]"
      ]
     },
     "metadata": {},
     "output_type": "display_data"
    },
    {
     "data": {
      "application/vnd.jupyter.widget-view+json": {
       "model_id": "e4383e3ea2db4e1f8b8df50fc59291a8",
       "version_major": 2,
       "version_minor": 0
      },
      "text/plain": [
       "Predicting: 17it [00:00, ?it/s]"
      ]
     },
     "metadata": {},
     "output_type": "display_data"
    },
    {
     "data": {
      "application/vnd.jupyter.widget-view+json": {
       "model_id": "221a43d8d39c48b1a575a82909e30ca2",
       "version_major": 2,
       "version_minor": 0
      },
      "text/plain": [
       "Training: 0it [00:00, ?it/s]"
      ]
     },
     "metadata": {},
     "output_type": "display_data"
    },
    {
     "data": {
      "application/vnd.jupyter.widget-view+json": {
       "model_id": "79ba4d7caa3645258d615be8305df5b2",
       "version_major": 2,
       "version_minor": 0
      },
      "text/plain": [
       "Predicting: 17it [00:00, ?it/s]"
      ]
     },
     "metadata": {},
     "output_type": "display_data"
    },
    {
     "data": {
      "application/vnd.jupyter.widget-view+json": {
       "model_id": "e655a5c65e6e4f3dbc0340935c161485",
       "version_major": 2,
       "version_minor": 0
      },
      "text/plain": [
       "Training: 0it [00:00, ?it/s]"
      ]
     },
     "metadata": {},
     "output_type": "display_data"
    },
    {
     "data": {
      "application/vnd.jupyter.widget-view+json": {
       "model_id": "8c51771785a241509f5710740f4d87ce",
       "version_major": 2,
       "version_minor": 0
      },
      "text/plain": [
       "Predicting: 17it [00:00, ?it/s]"
      ]
     },
     "metadata": {},
     "output_type": "display_data"
    },
    {
     "data": {
      "application/vnd.jupyter.widget-view+json": {
       "model_id": "c0efed14343c4ecd92c885b73186d2eb",
       "version_major": 2,
       "version_minor": 0
      },
      "text/plain": [
       "Training: 0it [00:00, ?it/s]"
      ]
     },
     "metadata": {},
     "output_type": "display_data"
    },
    {
     "data": {
      "application/vnd.jupyter.widget-view+json": {
       "model_id": "4a3b7789217d451cacaaa83b3ad8cc96",
       "version_major": 2,
       "version_minor": 0
      },
      "text/plain": [
       "Predicting: 17it [00:00, ?it/s]"
      ]
     },
     "metadata": {},
     "output_type": "display_data"
    },
    {
     "data": {
      "application/vnd.jupyter.widget-view+json": {
       "model_id": "4f8b5945c7ef41719d19687a9beac6e4",
       "version_major": 2,
       "version_minor": 0
      },
      "text/plain": [
       "Training: 0it [00:00, ?it/s]"
      ]
     },
     "metadata": {},
     "output_type": "display_data"
    },
    {
     "data": {
      "application/vnd.jupyter.widget-view+json": {
       "model_id": "706aed67a70743548a736622a6fc821f",
       "version_major": 2,
       "version_minor": 0
      },
      "text/plain": [
       "Predicting: 17it [00:00, ?it/s]"
      ]
     },
     "metadata": {},
     "output_type": "display_data"
    },
    {
     "data": {
      "application/vnd.jupyter.widget-view+json": {
       "model_id": "cee72fe350d841e69dda53e4b6b2d427",
       "version_major": 2,
       "version_minor": 0
      },
      "text/plain": [
       "Training: 0it [00:00, ?it/s]"
      ]
     },
     "metadata": {},
     "output_type": "display_data"
    },
    {
     "data": {
      "application/vnd.jupyter.widget-view+json": {
       "model_id": "4b9f17282661441f84f7dbe9dd1dbc0d",
       "version_major": 2,
       "version_minor": 0
      },
      "text/plain": [
       "Predicting: 17it [00:00, ?it/s]"
      ]
     },
     "metadata": {},
     "output_type": "display_data"
    },
    {
     "data": {
      "application/vnd.jupyter.widget-view+json": {
       "model_id": "72b6edf3125d4068b19c4f131dafeee6",
       "version_major": 2,
       "version_minor": 0
      },
      "text/plain": [
       "Training: 0it [00:00, ?it/s]"
      ]
     },
     "metadata": {},
     "output_type": "display_data"
    },
    {
     "data": {
      "application/vnd.jupyter.widget-view+json": {
       "model_id": "bb5ca21d40c54323bbf561a994fcd3e8",
       "version_major": 2,
       "version_minor": 0
      },
      "text/plain": [
       "Predicting: 17it [00:00, ?it/s]"
      ]
     },
     "metadata": {},
     "output_type": "display_data"
    },
    {
     "data": {
      "application/vnd.jupyter.widget-view+json": {
       "model_id": "cb784602afa242a2a9206f800aedaf5d",
       "version_major": 2,
       "version_minor": 0
      },
      "text/plain": [
       "Training: 0it [00:00, ?it/s]"
      ]
     },
     "metadata": {},
     "output_type": "display_data"
    },
    {
     "data": {
      "application/vnd.jupyter.widget-view+json": {
       "model_id": "df6d462ddf3c4148b9d89161c68eae7d",
       "version_major": 2,
       "version_minor": 0
      },
      "text/plain": [
       "Predicting: 17it [00:00, ?it/s]"
      ]
     },
     "metadata": {},
     "output_type": "display_data"
    },
    {
     "data": {
      "application/vnd.jupyter.widget-view+json": {
       "model_id": "eaaf881e08f34939803bb5b2c79cab16",
       "version_major": 2,
       "version_minor": 0
      },
      "text/plain": [
       "Training: 0it [00:00, ?it/s]"
      ]
     },
     "metadata": {},
     "output_type": "display_data"
    },
    {
     "data": {
      "application/vnd.jupyter.widget-view+json": {
       "model_id": "bc1bb411d15d444cbb7f161499ae82d7",
       "version_major": 2,
       "version_minor": 0
      },
      "text/plain": [
       "Predicting: 17it [00:00, ?it/s]"
      ]
     },
     "metadata": {},
     "output_type": "display_data"
    },
    {
     "data": {
      "application/vnd.jupyter.widget-view+json": {
       "model_id": "8678bd3ea1134cd6821fcd7429dff0f4",
       "version_major": 2,
       "version_minor": 0
      },
      "text/plain": [
       "Training: 0it [00:00, ?it/s]"
      ]
     },
     "metadata": {},
     "output_type": "display_data"
    },
    {
     "data": {
      "application/vnd.jupyter.widget-view+json": {
       "model_id": "54090ff551824368be4474b56d8864c7",
       "version_major": 2,
       "version_minor": 0
      },
      "text/plain": [
       "Predicting: 17it [00:00, ?it/s]"
      ]
     },
     "metadata": {},
     "output_type": "display_data"
    },
    {
     "data": {
      "application/vnd.jupyter.widget-view+json": {
       "model_id": "558673a7ad0c46beb4f714ca6d06bea1",
       "version_major": 2,
       "version_minor": 0
      },
      "text/plain": [
       "Training: 0it [00:00, ?it/s]"
      ]
     },
     "metadata": {},
     "output_type": "display_data"
    },
    {
     "data": {
      "application/vnd.jupyter.widget-view+json": {
       "model_id": "85b89e40d4814f3ba68182c9556f1961",
       "version_major": 2,
       "version_minor": 0
      },
      "text/plain": [
       "Predicting: 17it [00:00, ?it/s]"
      ]
     },
     "metadata": {},
     "output_type": "display_data"
    },
    {
     "data": {
      "application/vnd.jupyter.widget-view+json": {
       "model_id": "d57a54cd33284d5bad9dbfe802cab648",
       "version_major": 2,
       "version_minor": 0
      },
      "text/plain": [
       "Training: 0it [00:00, ?it/s]"
      ]
     },
     "metadata": {},
     "output_type": "display_data"
    },
    {
     "data": {
      "application/vnd.jupyter.widget-view+json": {
       "model_id": "a48ced4a17844000934e1ea49caf5fb0",
       "version_major": 2,
       "version_minor": 0
      },
      "text/plain": [
       "Predicting: 17it [00:00, ?it/s]"
      ]
     },
     "metadata": {},
     "output_type": "display_data"
    },
    {
     "data": {
      "application/vnd.jupyter.widget-view+json": {
       "model_id": "88d08273902b45518b610747b9a46591",
       "version_major": 2,
       "version_minor": 0
      },
      "text/plain": [
       "Training: 0it [00:00, ?it/s]"
      ]
     },
     "metadata": {},
     "output_type": "display_data"
    },
    {
     "data": {
      "application/vnd.jupyter.widget-view+json": {
       "model_id": "669888668c294b8aa8efd61bc35e0389",
       "version_major": 2,
       "version_minor": 0
      },
      "text/plain": [
       "Predicting: 17it [00:00, ?it/s]"
      ]
     },
     "metadata": {},
     "output_type": "display_data"
    },
    {
     "data": {
      "application/vnd.jupyter.widget-view+json": {
       "model_id": "5c0dc314e04243ae8101f2f282db716b",
       "version_major": 2,
       "version_minor": 0
      },
      "text/plain": [
       "Training: 0it [00:00, ?it/s]"
      ]
     },
     "metadata": {},
     "output_type": "display_data"
    },
    {
     "data": {
      "application/vnd.jupyter.widget-view+json": {
       "model_id": "a4c76828a88e4f1986d95f7213fc2d0f",
       "version_major": 2,
       "version_minor": 0
      },
      "text/plain": [
       "Predicting: 17it [00:00, ?it/s]"
      ]
     },
     "metadata": {},
     "output_type": "display_data"
    },
    {
     "data": {
      "application/vnd.jupyter.widget-view+json": {
       "model_id": "0721929bf7884a2285372f513bb6dc55",
       "version_major": 2,
       "version_minor": 0
      },
      "text/plain": [
       "Training: 0it [00:00, ?it/s]"
      ]
     },
     "metadata": {},
     "output_type": "display_data"
    },
    {
     "data": {
      "application/vnd.jupyter.widget-view+json": {
       "model_id": "96f4c92ef98642f4bd099e4b678fa0fc",
       "version_major": 2,
       "version_minor": 0
      },
      "text/plain": [
       "Predicting: 17it [00:00, ?it/s]"
      ]
     },
     "metadata": {},
     "output_type": "display_data"
    },
    {
     "data": {
      "application/vnd.jupyter.widget-view+json": {
       "model_id": "6ffa273fd8624856913dfca8aaff3a67",
       "version_major": 2,
       "version_minor": 0
      },
      "text/plain": [
       "Training: 0it [00:00, ?it/s]"
      ]
     },
     "metadata": {},
     "output_type": "display_data"
    },
    {
     "data": {
      "application/vnd.jupyter.widget-view+json": {
       "model_id": "d821d4a70ecf4c849cf9b41a05b255c1",
       "version_major": 2,
       "version_minor": 0
      },
      "text/plain": [
       "Predicting: 17it [00:00, ?it/s]"
      ]
     },
     "metadata": {},
     "output_type": "display_data"
    },
    {
     "data": {
      "application/vnd.jupyter.widget-view+json": {
       "model_id": "33503859edba4dbe8b94c3aeac62de44",
       "version_major": 2,
       "version_minor": 0
      },
      "text/plain": [
       "Training: 0it [00:00, ?it/s]"
      ]
     },
     "metadata": {},
     "output_type": "display_data"
    },
    {
     "data": {
      "application/vnd.jupyter.widget-view+json": {
       "model_id": "95c5e8a1e4834af5a68704989f97a899",
       "version_major": 2,
       "version_minor": 0
      },
      "text/plain": [
       "Predicting: 17it [00:00, ?it/s]"
      ]
     },
     "metadata": {},
     "output_type": "display_data"
    },
    {
     "data": {
      "application/vnd.jupyter.widget-view+json": {
       "model_id": "df34b34d15d8463b8a0ffe51db4019d4",
       "version_major": 2,
       "version_minor": 0
      },
      "text/plain": [
       "Training: 0it [00:00, ?it/s]"
      ]
     },
     "metadata": {},
     "output_type": "display_data"
    },
    {
     "data": {
      "application/vnd.jupyter.widget-view+json": {
       "model_id": "c81d272b506d47a7adf5eff123d7ffbe",
       "version_major": 2,
       "version_minor": 0
      },
      "text/plain": [
       "Predicting: 17it [00:00, ?it/s]"
      ]
     },
     "metadata": {},
     "output_type": "display_data"
    },
    {
     "data": {
      "application/vnd.jupyter.widget-view+json": {
       "model_id": "b0918b86a4cf42e7b572df597e4fb0aa",
       "version_major": 2,
       "version_minor": 0
      },
      "text/plain": [
       "Training: 0it [00:00, ?it/s]"
      ]
     },
     "metadata": {},
     "output_type": "display_data"
    },
    {
     "data": {
      "application/vnd.jupyter.widget-view+json": {
       "model_id": "4fd26104b3dd445287805f86d513166e",
       "version_major": 2,
       "version_minor": 0
      },
      "text/plain": [
       "Predicting: 17it [00:00, ?it/s]"
      ]
     },
     "metadata": {},
     "output_type": "display_data"
    },
    {
     "data": {
      "application/vnd.jupyter.widget-view+json": {
       "model_id": "04fd1631a79b44a29ad9a79633e6d7dd",
       "version_major": 2,
       "version_minor": 0
      },
      "text/plain": [
       "Training: 0it [00:00, ?it/s]"
      ]
     },
     "metadata": {},
     "output_type": "display_data"
    },
    {
     "data": {
      "application/vnd.jupyter.widget-view+json": {
       "model_id": "1b4dd21da2ef4b548dc66dfff91af690",
       "version_major": 2,
       "version_minor": 0
      },
      "text/plain": [
       "Predicting: 17it [00:00, ?it/s]"
      ]
     },
     "metadata": {},
     "output_type": "display_data"
    },
    {
     "data": {
      "application/vnd.jupyter.widget-view+json": {
       "model_id": "cb3ad7bddc6d400bb23bca2786ef2b66",
       "version_major": 2,
       "version_minor": 0
      },
      "text/plain": [
       "Training: 0it [00:00, ?it/s]"
      ]
     },
     "metadata": {},
     "output_type": "display_data"
    },
    {
     "data": {
      "application/vnd.jupyter.widget-view+json": {
       "model_id": "a27c1155d11049dd9349d1e964ae7f6f",
       "version_major": 2,
       "version_minor": 0
      },
      "text/plain": [
       "Predicting: 17it [00:00, ?it/s]"
      ]
     },
     "metadata": {},
     "output_type": "display_data"
    },
    {
     "data": {
      "application/vnd.jupyter.widget-view+json": {
       "model_id": "8fc7c20b3a8b44b09402abb158e1aaf9",
       "version_major": 2,
       "version_minor": 0
      },
      "text/plain": [
       "Training: 0it [00:00, ?it/s]"
      ]
     },
     "metadata": {},
     "output_type": "display_data"
    },
    {
     "data": {
      "application/vnd.jupyter.widget-view+json": {
       "model_id": "7948db4a61024103923bcbe3b8304492",
       "version_major": 2,
       "version_minor": 0
      },
      "text/plain": [
       "Predicting: 17it [00:00, ?it/s]"
      ]
     },
     "metadata": {},
     "output_type": "display_data"
    },
    {
     "data": {
      "application/vnd.jupyter.widget-view+json": {
       "model_id": "32eca241bcd343d48868a119a60575b2",
       "version_major": 2,
       "version_minor": 0
      },
      "text/plain": [
       "Training: 0it [00:00, ?it/s]"
      ]
     },
     "metadata": {},
     "output_type": "display_data"
    },
    {
     "data": {
      "application/vnd.jupyter.widget-view+json": {
       "model_id": "66ed942131c847798fe0d8ce1d136052",
       "version_major": 2,
       "version_minor": 0
      },
      "text/plain": [
       "Predicting: 17it [00:00, ?it/s]"
      ]
     },
     "metadata": {},
     "output_type": "display_data"
    },
    {
     "data": {
      "application/vnd.jupyter.widget-view+json": {
       "model_id": "136f942ed6854133a61404b30aa3e299",
       "version_major": 2,
       "version_minor": 0
      },
      "text/plain": [
       "Training: 0it [00:00, ?it/s]"
      ]
     },
     "metadata": {},
     "output_type": "display_data"
    },
    {
     "data": {
      "application/vnd.jupyter.widget-view+json": {
       "model_id": "e26fd28bfaac4d84a402744861e8ef2d",
       "version_major": 2,
       "version_minor": 0
      },
      "text/plain": [
       "Predicting: 17it [00:00, ?it/s]"
      ]
     },
     "metadata": {},
     "output_type": "display_data"
    },
    {
     "data": {
      "application/vnd.jupyter.widget-view+json": {
       "model_id": "4bf0a10306e74eba82841ac442b71cec",
       "version_major": 2,
       "version_minor": 0
      },
      "text/plain": [
       "Training: 0it [00:00, ?it/s]"
      ]
     },
     "metadata": {},
     "output_type": "display_data"
    },
    {
     "data": {
      "application/vnd.jupyter.widget-view+json": {
       "model_id": "ebb4a1d443aa48d6862dcdc23a237253",
       "version_major": 2,
       "version_minor": 0
      },
      "text/plain": [
       "Predicting: 16it [00:00, ?it/s]"
      ]
     },
     "metadata": {},
     "output_type": "display_data"
    },
    {
     "data": {
      "application/vnd.jupyter.widget-view+json": {
       "model_id": "b9674ee509f04b7fb9c371639e495704",
       "version_major": 2,
       "version_minor": 0
      },
      "text/plain": [
       "Training: 0it [00:00, ?it/s]"
      ]
     },
     "metadata": {},
     "output_type": "display_data"
    },
    {
     "data": {
      "application/vnd.jupyter.widget-view+json": {
       "model_id": "1531db9eb89c4c4c876aee4f2b5f7e15",
       "version_major": 2,
       "version_minor": 0
      },
      "text/plain": [
       "Predicting: 16it [00:00, ?it/s]"
      ]
     },
     "metadata": {},
     "output_type": "display_data"
    },
    {
     "data": {
      "application/vnd.jupyter.widget-view+json": {
       "model_id": "e2d6cd19dc034bc7b37b4f873b1910a3",
       "version_major": 2,
       "version_minor": 0
      },
      "text/plain": [
       "Training: 0it [00:00, ?it/s]"
      ]
     },
     "metadata": {},
     "output_type": "display_data"
    },
    {
     "data": {
      "application/vnd.jupyter.widget-view+json": {
       "model_id": "a03c6f658be94585a7c07cf717c31918",
       "version_major": 2,
       "version_minor": 0
      },
      "text/plain": [
       "Predicting: 16it [00:00, ?it/s]"
      ]
     },
     "metadata": {},
     "output_type": "display_data"
    },
    {
     "data": {
      "application/vnd.jupyter.widget-view+json": {
       "model_id": "40f009013dd34016bc3bfabff3a0b377",
       "version_major": 2,
       "version_minor": 0
      },
      "text/plain": [
       "Training: 0it [00:00, ?it/s]"
      ]
     },
     "metadata": {},
     "output_type": "display_data"
    },
    {
     "data": {
      "application/vnd.jupyter.widget-view+json": {
       "model_id": "a20e801dc5ff4574aac3e05dd603b7f7",
       "version_major": 2,
       "version_minor": 0
      },
      "text/plain": [
       "Predicting: 16it [00:00, ?it/s]"
      ]
     },
     "metadata": {},
     "output_type": "display_data"
    },
    {
     "data": {
      "application/vnd.jupyter.widget-view+json": {
       "model_id": "d957e2ee35744b1bb748735ae78c7bda",
       "version_major": 2,
       "version_minor": 0
      },
      "text/plain": [
       "Training: 0it [00:00, ?it/s]"
      ]
     },
     "metadata": {},
     "output_type": "display_data"
    },
    {
     "data": {
      "application/vnd.jupyter.widget-view+json": {
       "model_id": "539e32685ab94ce8bfc0bcb37cc720b6",
       "version_major": 2,
       "version_minor": 0
      },
      "text/plain": [
       "Predicting: 16it [00:00, ?it/s]"
      ]
     },
     "metadata": {},
     "output_type": "display_data"
    },
    {
     "data": {
      "application/vnd.jupyter.widget-view+json": {
       "model_id": "c3e01e48ddb24bffaf3e6efcbfb4f52f",
       "version_major": 2,
       "version_minor": 0
      },
      "text/plain": [
       "Training: 0it [00:00, ?it/s]"
      ]
     },
     "metadata": {},
     "output_type": "display_data"
    },
    {
     "data": {
      "application/vnd.jupyter.widget-view+json": {
       "model_id": "24b719b6492a4fb3bc43fdf5599e73f0",
       "version_major": 2,
       "version_minor": 0
      },
      "text/plain": [
       "Predicting: 16it [00:00, ?it/s]"
      ]
     },
     "metadata": {},
     "output_type": "display_data"
    },
    {
     "data": {
      "application/vnd.jupyter.widget-view+json": {
       "model_id": "251b027b012c40f8830053eaaebb4db1",
       "version_major": 2,
       "version_minor": 0
      },
      "text/plain": [
       "Training: 0it [00:00, ?it/s]"
      ]
     },
     "metadata": {},
     "output_type": "display_data"
    },
    {
     "data": {
      "application/vnd.jupyter.widget-view+json": {
       "model_id": "c5b892983a204cfaa97f666192484079",
       "version_major": 2,
       "version_minor": 0
      },
      "text/plain": [
       "Predicting: 16it [00:00, ?it/s]"
      ]
     },
     "metadata": {},
     "output_type": "display_data"
    },
    {
     "data": {
      "application/vnd.jupyter.widget-view+json": {
       "model_id": "ab5388fdba0f48c994b130dc22e8f14c",
       "version_major": 2,
       "version_minor": 0
      },
      "text/plain": [
       "Training: 0it [00:00, ?it/s]"
      ]
     },
     "metadata": {},
     "output_type": "display_data"
    },
    {
     "data": {
      "application/vnd.jupyter.widget-view+json": {
       "model_id": "f5b2a0a2e6714a51a00644daff928def",
       "version_major": 2,
       "version_minor": 0
      },
      "text/plain": [
       "Predicting: 16it [00:00, ?it/s]"
      ]
     },
     "metadata": {},
     "output_type": "display_data"
    },
    {
     "data": {
      "application/vnd.jupyter.widget-view+json": {
       "model_id": "85ac15378ce349a0930e194330825ae6",
       "version_major": 2,
       "version_minor": 0
      },
      "text/plain": [
       "Training: 0it [00:00, ?it/s]"
      ]
     },
     "metadata": {},
     "output_type": "display_data"
    },
    {
     "data": {
      "application/vnd.jupyter.widget-view+json": {
       "model_id": "de6e2b56f8d14e5691b8bf081f1defd5",
       "version_major": 2,
       "version_minor": 0
      },
      "text/plain": [
       "Predicting: 16it [00:00, ?it/s]"
      ]
     },
     "metadata": {},
     "output_type": "display_data"
    },
    {
     "data": {
      "application/vnd.jupyter.widget-view+json": {
       "model_id": "2976d415ed01440b9f1fdddaac51841c",
       "version_major": 2,
       "version_minor": 0
      },
      "text/plain": [
       "Training: 0it [00:00, ?it/s]"
      ]
     },
     "metadata": {},
     "output_type": "display_data"
    },
    {
     "data": {
      "application/vnd.jupyter.widget-view+json": {
       "model_id": "806beabd30f04b7e97245e777b55b110",
       "version_major": 2,
       "version_minor": 0
      },
      "text/plain": [
       "Predicting: 16it [00:00, ?it/s]"
      ]
     },
     "metadata": {},
     "output_type": "display_data"
    },
    {
     "data": {
      "application/vnd.jupyter.widget-view+json": {
       "model_id": "3f1ba00401b54f5cbe044fc8594b2da3",
       "version_major": 2,
       "version_minor": 0
      },
      "text/plain": [
       "Training: 0it [00:00, ?it/s]"
      ]
     },
     "metadata": {},
     "output_type": "display_data"
    },
    {
     "data": {
      "application/vnd.jupyter.widget-view+json": {
       "model_id": "231f2e933fcf49ecb2375f5a47d0a08b",
       "version_major": 2,
       "version_minor": 0
      },
      "text/plain": [
       "Predicting: 16it [00:00, ?it/s]"
      ]
     },
     "metadata": {},
     "output_type": "display_data"
    },
    {
     "data": {
      "application/vnd.jupyter.widget-view+json": {
       "model_id": "79d9b6b6e736423096d1bae34dc778d8",
       "version_major": 2,
       "version_minor": 0
      },
      "text/plain": [
       "Training: 0it [00:00, ?it/s]"
      ]
     },
     "metadata": {},
     "output_type": "display_data"
    },
    {
     "data": {
      "application/vnd.jupyter.widget-view+json": {
       "model_id": "3c532cf1e4a04ac68ceae7018f5571f5",
       "version_major": 2,
       "version_minor": 0
      },
      "text/plain": [
       "Predicting: 16it [00:00, ?it/s]"
      ]
     },
     "metadata": {},
     "output_type": "display_data"
    },
    {
     "data": {
      "application/vnd.jupyter.widget-view+json": {
       "model_id": "5a24934317aa4c358027fc299f807f09",
       "version_major": 2,
       "version_minor": 0
      },
      "text/plain": [
       "Training: 0it [00:00, ?it/s]"
      ]
     },
     "metadata": {},
     "output_type": "display_data"
    },
    {
     "data": {
      "application/vnd.jupyter.widget-view+json": {
       "model_id": "0c0b398cb4144e33b06806c75c83c7aa",
       "version_major": 2,
       "version_minor": 0
      },
      "text/plain": [
       "Predicting: 16it [00:00, ?it/s]"
      ]
     },
     "metadata": {},
     "output_type": "display_data"
    },
    {
     "data": {
      "application/vnd.jupyter.widget-view+json": {
       "model_id": "79aa3d38f2b04fdb9739acdcd8057ba3",
       "version_major": 2,
       "version_minor": 0
      },
      "text/plain": [
       "Training: 0it [00:00, ?it/s]"
      ]
     },
     "metadata": {},
     "output_type": "display_data"
    },
    {
     "data": {
      "application/vnd.jupyter.widget-view+json": {
       "model_id": "178884bbd35a47b48fbfe86ebab40a49",
       "version_major": 2,
       "version_minor": 0
      },
      "text/plain": [
       "Predicting: 16it [00:00, ?it/s]"
      ]
     },
     "metadata": {},
     "output_type": "display_data"
    },
    {
     "data": {
      "application/vnd.jupyter.widget-view+json": {
       "model_id": "52bbe5b1a0314937a873ce919fd7c62a",
       "version_major": 2,
       "version_minor": 0
      },
      "text/plain": [
       "Training: 0it [00:00, ?it/s]"
      ]
     },
     "metadata": {},
     "output_type": "display_data"
    },
    {
     "data": {
      "application/vnd.jupyter.widget-view+json": {
       "model_id": "4b2e0610225b4d199f0393342d666aec",
       "version_major": 2,
       "version_minor": 0
      },
      "text/plain": [
       "Predicting: 16it [00:00, ?it/s]"
      ]
     },
     "metadata": {},
     "output_type": "display_data"
    },
    {
     "data": {
      "application/vnd.jupyter.widget-view+json": {
       "model_id": "c0f9d15788d545b8b41483692cf657a5",
       "version_major": 2,
       "version_minor": 0
      },
      "text/plain": [
       "Training: 0it [00:00, ?it/s]"
      ]
     },
     "metadata": {},
     "output_type": "display_data"
    },
    {
     "data": {
      "application/vnd.jupyter.widget-view+json": {
       "model_id": "bcdd2ecabd8b46c4a8e445f826703be6",
       "version_major": 2,
       "version_minor": 0
      },
      "text/plain": [
       "Predicting: 16it [00:00, ?it/s]"
      ]
     },
     "metadata": {},
     "output_type": "display_data"
    },
    {
     "data": {
      "application/vnd.jupyter.widget-view+json": {
       "model_id": "4f7247e5dc6843f6b3eea4fff36148fe",
       "version_major": 2,
       "version_minor": 0
      },
      "text/plain": [
       "Training: 0it [00:00, ?it/s]"
      ]
     },
     "metadata": {},
     "output_type": "display_data"
    },
    {
     "data": {
      "application/vnd.jupyter.widget-view+json": {
       "model_id": "a7d9414c6b3b490885a0e8dcb1c9e951",
       "version_major": 2,
       "version_minor": 0
      },
      "text/plain": [
       "Predicting: 16it [00:00, ?it/s]"
      ]
     },
     "metadata": {},
     "output_type": "display_data"
    },
    {
     "data": {
      "application/vnd.jupyter.widget-view+json": {
       "model_id": "37aa65296c874503ae53ea2047d95de5",
       "version_major": 2,
       "version_minor": 0
      },
      "text/plain": [
       "Training: 0it [00:00, ?it/s]"
      ]
     },
     "metadata": {},
     "output_type": "display_data"
    },
    {
     "data": {
      "application/vnd.jupyter.widget-view+json": {
       "model_id": "aa8e149e45924aaa957379ded470f503",
       "version_major": 2,
       "version_minor": 0
      },
      "text/plain": [
       "Predicting: 16it [00:00, ?it/s]"
      ]
     },
     "metadata": {},
     "output_type": "display_data"
    },
    {
     "data": {
      "application/vnd.jupyter.widget-view+json": {
       "model_id": "61e8cff5af264458b3ae9944c730d101",
       "version_major": 2,
       "version_minor": 0
      },
      "text/plain": [
       "Training: 0it [00:00, ?it/s]"
      ]
     },
     "metadata": {},
     "output_type": "display_data"
    },
    {
     "data": {
      "application/vnd.jupyter.widget-view+json": {
       "model_id": "8c15d11e74e0484f932144b48644d996",
       "version_major": 2,
       "version_minor": 0
      },
      "text/plain": [
       "Predicting: 16it [00:00, ?it/s]"
      ]
     },
     "metadata": {},
     "output_type": "display_data"
    },
    {
     "data": {
      "application/vnd.jupyter.widget-view+json": {
       "model_id": "ba96ba7cf7b742c090cd66c92b2b98cb",
       "version_major": 2,
       "version_minor": 0
      },
      "text/plain": [
       "Training: 0it [00:00, ?it/s]"
      ]
     },
     "metadata": {},
     "output_type": "display_data"
    },
    {
     "data": {
      "application/vnd.jupyter.widget-view+json": {
       "model_id": "36bda49ab3e24f0d9e2d1fbdfa7a8aef",
       "version_major": 2,
       "version_minor": 0
      },
      "text/plain": [
       "Predicting: 16it [00:00, ?it/s]"
      ]
     },
     "metadata": {},
     "output_type": "display_data"
    },
    {
     "data": {
      "application/vnd.jupyter.widget-view+json": {
       "model_id": "61cdb17690e14a65bcb7b337cd7c9a59",
       "version_major": 2,
       "version_minor": 0
      },
      "text/plain": [
       "Training: 0it [00:00, ?it/s]"
      ]
     },
     "metadata": {},
     "output_type": "display_data"
    },
    {
     "data": {
      "application/vnd.jupyter.widget-view+json": {
       "model_id": "fe9505d60c074259b242f3ba602c8551",
       "version_major": 2,
       "version_minor": 0
      },
      "text/plain": [
       "Predicting: 16it [00:00, ?it/s]"
      ]
     },
     "metadata": {},
     "output_type": "display_data"
    },
    {
     "data": {
      "application/vnd.jupyter.widget-view+json": {
       "model_id": "c4b7d56ac0cb4e90b579b39d6cc4dc97",
       "version_major": 2,
       "version_minor": 0
      },
      "text/plain": [
       "Training: 0it [00:00, ?it/s]"
      ]
     },
     "metadata": {},
     "output_type": "display_data"
    },
    {
     "data": {
      "application/vnd.jupyter.widget-view+json": {
       "model_id": "8c0977c8a4ff419dbb082e8872d5ffe1",
       "version_major": 2,
       "version_minor": 0
      },
      "text/plain": [
       "Predicting: 16it [00:00, ?it/s]"
      ]
     },
     "metadata": {},
     "output_type": "display_data"
    },
    {
     "data": {
      "application/vnd.jupyter.widget-view+json": {
       "model_id": "95a35199fb274b4ea0111f8106eccd65",
       "version_major": 2,
       "version_minor": 0
      },
      "text/plain": [
       "Training: 0it [00:00, ?it/s]"
      ]
     },
     "metadata": {},
     "output_type": "display_data"
    },
    {
     "data": {
      "application/vnd.jupyter.widget-view+json": {
       "model_id": "50dd007d446a401cb6beb239a42b7ef2",
       "version_major": 2,
       "version_minor": 0
      },
      "text/plain": [
       "Predicting: 16it [00:00, ?it/s]"
      ]
     },
     "metadata": {},
     "output_type": "display_data"
    },
    {
     "data": {
      "application/vnd.jupyter.widget-view+json": {
       "model_id": "16023fd8ee844417a9e28007633bbbaf",
       "version_major": 2,
       "version_minor": 0
      },
      "text/plain": [
       "Training: 0it [00:00, ?it/s]"
      ]
     },
     "metadata": {},
     "output_type": "display_data"
    },
    {
     "data": {
      "application/vnd.jupyter.widget-view+json": {
       "model_id": "902ca5c9b0da4d5aa48adf073ef38a1a",
       "version_major": 2,
       "version_minor": 0
      },
      "text/plain": [
       "Predicting: 16it [00:00, ?it/s]"
      ]
     },
     "metadata": {},
     "output_type": "display_data"
    },
    {
     "data": {
      "application/vnd.jupyter.widget-view+json": {
       "model_id": "72c46f89a4884c80ac7aaafcb3e4af96",
       "version_major": 2,
       "version_minor": 0
      },
      "text/plain": [
       "Training: 0it [00:00, ?it/s]"
      ]
     },
     "metadata": {},
     "output_type": "display_data"
    },
    {
     "data": {
      "application/vnd.jupyter.widget-view+json": {
       "model_id": "317175ea923f4a3eaee2b6a208f98aa1",
       "version_major": 2,
       "version_minor": 0
      },
      "text/plain": [
       "Predicting: 16it [00:00, ?it/s]"
      ]
     },
     "metadata": {},
     "output_type": "display_data"
    },
    {
     "data": {
      "application/vnd.jupyter.widget-view+json": {
       "model_id": "2ba9960c96ef42d9ad673de68ed7648d",
       "version_major": 2,
       "version_minor": 0
      },
      "text/plain": [
       "Training: 0it [00:00, ?it/s]"
      ]
     },
     "metadata": {},
     "output_type": "display_data"
    },
    {
     "data": {
      "application/vnd.jupyter.widget-view+json": {
       "model_id": "4b80d0e88e5641c8b86657cf4f2b2d21",
       "version_major": 2,
       "version_minor": 0
      },
      "text/plain": [
       "Predicting: 16it [00:00, ?it/s]"
      ]
     },
     "metadata": {},
     "output_type": "display_data"
    },
    {
     "data": {
      "application/vnd.jupyter.widget-view+json": {
       "model_id": "93699154c153458683f52a88ed5c9ec3",
       "version_major": 2,
       "version_minor": 0
      },
      "text/plain": [
       "Training: 0it [00:00, ?it/s]"
      ]
     },
     "metadata": {},
     "output_type": "display_data"
    },
    {
     "data": {
      "application/vnd.jupyter.widget-view+json": {
       "model_id": "f961c4abed0640fd8c6d0402713fcd9a",
       "version_major": 2,
       "version_minor": 0
      },
      "text/plain": [
       "Predicting: 16it [00:00, ?it/s]"
      ]
     },
     "metadata": {},
     "output_type": "display_data"
    },
    {
     "data": {
      "application/vnd.jupyter.widget-view+json": {
       "model_id": "7039836619d840f496bc5ab7163e3206",
       "version_major": 2,
       "version_minor": 0
      },
      "text/plain": [
       "Training: 0it [00:00, ?it/s]"
      ]
     },
     "metadata": {},
     "output_type": "display_data"
    },
    {
     "data": {
      "application/vnd.jupyter.widget-view+json": {
       "model_id": "d3947834d317485dae387f19683052aa",
       "version_major": 2,
       "version_minor": 0
      },
      "text/plain": [
       "Predicting: 16it [00:00, ?it/s]"
      ]
     },
     "metadata": {},
     "output_type": "display_data"
    },
    {
     "data": {
      "application/vnd.jupyter.widget-view+json": {
       "model_id": "310406b6fd574172a83ca1918bf271bc",
       "version_major": 2,
       "version_minor": 0
      },
      "text/plain": [
       "Training: 0it [00:00, ?it/s]"
      ]
     },
     "metadata": {},
     "output_type": "display_data"
    },
    {
     "data": {
      "application/vnd.jupyter.widget-view+json": {
       "model_id": "e65efbed41794d859a18c30a075dca25",
       "version_major": 2,
       "version_minor": 0
      },
      "text/plain": [
       "Predicting: 16it [00:00, ?it/s]"
      ]
     },
     "metadata": {},
     "output_type": "display_data"
    },
    {
     "data": {
      "application/vnd.jupyter.widget-view+json": {
       "model_id": "669cf492b32e421bbe32fcd7b68403c3",
       "version_major": 2,
       "version_minor": 0
      },
      "text/plain": [
       "Training: 0it [00:00, ?it/s]"
      ]
     },
     "metadata": {},
     "output_type": "display_data"
    },
    {
     "data": {
      "application/vnd.jupyter.widget-view+json": {
       "model_id": "9652f37671a24656b69efd70d347fd68",
       "version_major": 2,
       "version_minor": 0
      },
      "text/plain": [
       "Predicting: 16it [00:00, ?it/s]"
      ]
     },
     "metadata": {},
     "output_type": "display_data"
    },
    {
     "data": {
      "application/vnd.jupyter.widget-view+json": {
       "model_id": "773be2776c6e4ad8a62a7832fb02dab6",
       "version_major": 2,
       "version_minor": 0
      },
      "text/plain": [
       "Training: 0it [00:00, ?it/s]"
      ]
     },
     "metadata": {},
     "output_type": "display_data"
    },
    {
     "data": {
      "application/vnd.jupyter.widget-view+json": {
       "model_id": "eeb1a5f3b4cb420bb16e58c55d9c4ecc",
       "version_major": 2,
       "version_minor": 0
      },
      "text/plain": [
       "Predicting: 16it [00:00, ?it/s]"
      ]
     },
     "metadata": {},
     "output_type": "display_data"
    },
    {
     "data": {
      "application/vnd.jupyter.widget-view+json": {
       "model_id": "8df545782486450bba8a37f1f1aaaa7b",
       "version_major": 2,
       "version_minor": 0
      },
      "text/plain": [
       "Training: 0it [00:00, ?it/s]"
      ]
     },
     "metadata": {},
     "output_type": "display_data"
    },
    {
     "data": {
      "application/vnd.jupyter.widget-view+json": {
       "model_id": "9d1e18d9a0794002a0e38cd720e2e782",
       "version_major": 2,
       "version_minor": 0
      },
      "text/plain": [
       "Predicting: 16it [00:00, ?it/s]"
      ]
     },
     "metadata": {},
     "output_type": "display_data"
    },
    {
     "data": {
      "application/vnd.jupyter.widget-view+json": {
       "model_id": "ca537d4657084081b8ae86abf2715665",
       "version_major": 2,
       "version_minor": 0
      },
      "text/plain": [
       "Training: 0it [00:00, ?it/s]"
      ]
     },
     "metadata": {},
     "output_type": "display_data"
    },
    {
     "data": {
      "application/vnd.jupyter.widget-view+json": {
       "model_id": "04e9fcf981c44c14b3cfbb1b3e7989d5",
       "version_major": 2,
       "version_minor": 0
      },
      "text/plain": [
       "Predicting: 16it [00:00, ?it/s]"
      ]
     },
     "metadata": {},
     "output_type": "display_data"
    },
    {
     "data": {
      "application/vnd.jupyter.widget-view+json": {
       "model_id": "bafb6b9965d643eb86f72d5bd71d056a",
       "version_major": 2,
       "version_minor": 0
      },
      "text/plain": [
       "Training: 0it [00:00, ?it/s]"
      ]
     },
     "metadata": {},
     "output_type": "display_data"
    },
    {
     "data": {
      "application/vnd.jupyter.widget-view+json": {
       "model_id": "b13a8116f7f24a86803e9f82d93f2020",
       "version_major": 2,
       "version_minor": 0
      },
      "text/plain": [
       "Predicting: 16it [00:00, ?it/s]"
      ]
     },
     "metadata": {},
     "output_type": "display_data"
    },
    {
     "data": {
      "application/vnd.jupyter.widget-view+json": {
       "model_id": "26730de168ae4a5aa7c08b09096b1549",
       "version_major": 2,
       "version_minor": 0
      },
      "text/plain": [
       "Training: 0it [00:00, ?it/s]"
      ]
     },
     "metadata": {},
     "output_type": "display_data"
    },
    {
     "data": {
      "application/vnd.jupyter.widget-view+json": {
       "model_id": "f20794f7a52a43f2a56ba234c5956b25",
       "version_major": 2,
       "version_minor": 0
      },
      "text/plain": [
       "Predicting: 16it [00:00, ?it/s]"
      ]
     },
     "metadata": {},
     "output_type": "display_data"
    },
    {
     "data": {
      "application/vnd.jupyter.widget-view+json": {
       "model_id": "6298edd8590046cfbccaf476be0cf1d2",
       "version_major": 2,
       "version_minor": 0
      },
      "text/plain": [
       "Training: 0it [00:00, ?it/s]"
      ]
     },
     "metadata": {},
     "output_type": "display_data"
    },
    {
     "data": {
      "application/vnd.jupyter.widget-view+json": {
       "model_id": "445d3669b52b4ddbbab3789510eec68c",
       "version_major": 2,
       "version_minor": 0
      },
      "text/plain": [
       "Predicting: 16it [00:00, ?it/s]"
      ]
     },
     "metadata": {},
     "output_type": "display_data"
    },
    {
     "data": {
      "application/vnd.jupyter.widget-view+json": {
       "model_id": "ef271eb85b564d7c9934f26f7e3d38be",
       "version_major": 2,
       "version_minor": 0
      },
      "text/plain": [
       "Training: 0it [00:00, ?it/s]"
      ]
     },
     "metadata": {},
     "output_type": "display_data"
    },
    {
     "data": {
      "application/vnd.jupyter.widget-view+json": {
       "model_id": "1fdbb0a12a074315886a9b2a5b258681",
       "version_major": 2,
       "version_minor": 0
      },
      "text/plain": [
       "Predicting: 16it [00:00, ?it/s]"
      ]
     },
     "metadata": {},
     "output_type": "display_data"
    },
    {
     "data": {
      "application/vnd.jupyter.widget-view+json": {
       "model_id": "530b2915129d45fa959a5ab1a2da1466",
       "version_major": 2,
       "version_minor": 0
      },
      "text/plain": [
       "Training: 0it [00:00, ?it/s]"
      ]
     },
     "metadata": {},
     "output_type": "display_data"
    },
    {
     "data": {
      "application/vnd.jupyter.widget-view+json": {
       "model_id": "1c648b2af3d241548afdda7e1fe4e713",
       "version_major": 2,
       "version_minor": 0
      },
      "text/plain": [
       "Predicting: 16it [00:00, ?it/s]"
      ]
     },
     "metadata": {},
     "output_type": "display_data"
    },
    {
     "data": {
      "application/vnd.jupyter.widget-view+json": {
       "model_id": "b4a46296ad824036bc67ccfc64fe967c",
       "version_major": 2,
       "version_minor": 0
      },
      "text/plain": [
       "Training: 0it [00:00, ?it/s]"
      ]
     },
     "metadata": {},
     "output_type": "display_data"
    },
    {
     "data": {
      "application/vnd.jupyter.widget-view+json": {
       "model_id": "199f66cbd9e84643b6a60267d6d72eaa",
       "version_major": 2,
       "version_minor": 0
      },
      "text/plain": [
       "Predicting: 16it [00:00, ?it/s]"
      ]
     },
     "metadata": {},
     "output_type": "display_data"
    },
    {
     "data": {
      "application/vnd.jupyter.widget-view+json": {
       "model_id": "74ef95686b4c424f99d45b6cc32513d9",
       "version_major": 2,
       "version_minor": 0
      },
      "text/plain": [
       "Training: 0it [00:00, ?it/s]"
      ]
     },
     "metadata": {},
     "output_type": "display_data"
    },
    {
     "data": {
      "application/vnd.jupyter.widget-view+json": {
       "model_id": "ab3e6c88ec58404884112694f7d1451c",
       "version_major": 2,
       "version_minor": 0
      },
      "text/plain": [
       "Predicting: 16it [00:00, ?it/s]"
      ]
     },
     "metadata": {},
     "output_type": "display_data"
    },
    {
     "data": {
      "application/vnd.jupyter.widget-view+json": {
       "model_id": "1a745e1c8e944f57a06b8f74cfa18b68",
       "version_major": 2,
       "version_minor": 0
      },
      "text/plain": [
       "Training: 0it [00:00, ?it/s]"
      ]
     },
     "metadata": {},
     "output_type": "display_data"
    },
    {
     "data": {
      "application/vnd.jupyter.widget-view+json": {
       "model_id": "7281d858f7ad44019f5ad9a320f406de",
       "version_major": 2,
       "version_minor": 0
      },
      "text/plain": [
       "Predicting: 16it [00:00, ?it/s]"
      ]
     },
     "metadata": {},
     "output_type": "display_data"
    },
    {
     "data": {
      "application/vnd.jupyter.widget-view+json": {
       "model_id": "5467cfb227384aee8830aed64bfe7a04",
       "version_major": 2,
       "version_minor": 0
      },
      "text/plain": [
       "Training: 0it [00:00, ?it/s]"
      ]
     },
     "metadata": {},
     "output_type": "display_data"
    },
    {
     "data": {
      "application/vnd.jupyter.widget-view+json": {
       "model_id": "6c19931b030c4879a148030b9bcf2bdd",
       "version_major": 2,
       "version_minor": 0
      },
      "text/plain": [
       "Predicting: 16it [00:00, ?it/s]"
      ]
     },
     "metadata": {},
     "output_type": "display_data"
    },
    {
     "data": {
      "application/vnd.jupyter.widget-view+json": {
       "model_id": "2fa8d1cf2e664a73bf9a6e64a1282b34",
       "version_major": 2,
       "version_minor": 0
      },
      "text/plain": [
       "Training: 0it [00:00, ?it/s]"
      ]
     },
     "metadata": {},
     "output_type": "display_data"
    },
    {
     "data": {
      "application/vnd.jupyter.widget-view+json": {
       "model_id": "86137db2dd494467b52f93daf8b89f17",
       "version_major": 2,
       "version_minor": 0
      },
      "text/plain": [
       "Predicting: 16it [00:00, ?it/s]"
      ]
     },
     "metadata": {},
     "output_type": "display_data"
    },
    {
     "data": {
      "application/vnd.jupyter.widget-view+json": {
       "model_id": "f7c9c5d7fea442eb9dfe4f993897a5eb",
       "version_major": 2,
       "version_minor": 0
      },
      "text/plain": [
       "Training: 0it [00:00, ?it/s]"
      ]
     },
     "metadata": {},
     "output_type": "display_data"
    },
    {
     "data": {
      "application/vnd.jupyter.widget-view+json": {
       "model_id": "27a601bc81c745e58fa4c1fa7a2fe29e",
       "version_major": 2,
       "version_minor": 0
      },
      "text/plain": [
       "Predicting: 16it [00:00, ?it/s]"
      ]
     },
     "metadata": {},
     "output_type": "display_data"
    },
    {
     "data": {
      "application/vnd.jupyter.widget-view+json": {
       "model_id": "8e6dfe0f8c894e1b87770bc01cf9b627",
       "version_major": 2,
       "version_minor": 0
      },
      "text/plain": [
       "Training: 0it [00:00, ?it/s]"
      ]
     },
     "metadata": {},
     "output_type": "display_data"
    },
    {
     "data": {
      "application/vnd.jupyter.widget-view+json": {
       "model_id": "9a6dd79cf0744753b22628dea48e17be",
       "version_major": 2,
       "version_minor": 0
      },
      "text/plain": [
       "Predicting: 16it [00:00, ?it/s]"
      ]
     },
     "metadata": {},
     "output_type": "display_data"
    },
    {
     "data": {
      "application/vnd.jupyter.widget-view+json": {
       "model_id": "61140466b4e94d998fb8889d954f34b7",
       "version_major": 2,
       "version_minor": 0
      },
      "text/plain": [
       "Training: 0it [00:00, ?it/s]"
      ]
     },
     "metadata": {},
     "output_type": "display_data"
    },
    {
     "data": {
      "application/vnd.jupyter.widget-view+json": {
       "model_id": "858620a7416f49cbbef7261d92a42f82",
       "version_major": 2,
       "version_minor": 0
      },
      "text/plain": [
       "Predicting: 16it [00:00, ?it/s]"
      ]
     },
     "metadata": {},
     "output_type": "display_data"
    },
    {
     "data": {
      "application/vnd.jupyter.widget-view+json": {
       "model_id": "eb6bb174945144209325fe3e821e99de",
       "version_major": 2,
       "version_minor": 0
      },
      "text/plain": [
       "Training: 0it [00:00, ?it/s]"
      ]
     },
     "metadata": {},
     "output_type": "display_data"
    },
    {
     "data": {
      "application/vnd.jupyter.widget-view+json": {
       "model_id": "e0a440d047cc43a597dae2a8a768adec",
       "version_major": 2,
       "version_minor": 0
      },
      "text/plain": [
       "Predicting: 16it [00:00, ?it/s]"
      ]
     },
     "metadata": {},
     "output_type": "display_data"
    },
    {
     "data": {
      "application/vnd.jupyter.widget-view+json": {
       "model_id": "3b5952a91d8e4157aefa831b9f21c656",
       "version_major": 2,
       "version_minor": 0
      },
      "text/plain": [
       "Training: 0it [00:00, ?it/s]"
      ]
     },
     "metadata": {},
     "output_type": "display_data"
    },
    {
     "data": {
      "application/vnd.jupyter.widget-view+json": {
       "model_id": "12de56a9d40d4bf5bc55b4bf20719aca",
       "version_major": 2,
       "version_minor": 0
      },
      "text/plain": [
       "Predicting: 16it [00:00, ?it/s]"
      ]
     },
     "metadata": {},
     "output_type": "display_data"
    },
    {
     "data": {
      "application/vnd.jupyter.widget-view+json": {
       "model_id": "66184f4e3c524a748688a87226e77eae",
       "version_major": 2,
       "version_minor": 0
      },
      "text/plain": [
       "Training: 0it [00:00, ?it/s]"
      ]
     },
     "metadata": {},
     "output_type": "display_data"
    },
    {
     "data": {
      "application/vnd.jupyter.widget-view+json": {
       "model_id": "b0432b19bb9547da8180600688266756",
       "version_major": 2,
       "version_minor": 0
      },
      "text/plain": [
       "Predicting: 16it [00:00, ?it/s]"
      ]
     },
     "metadata": {},
     "output_type": "display_data"
    },
    {
     "data": {
      "application/vnd.jupyter.widget-view+json": {
       "model_id": "de1e799b60234912a86d59eef050b7f0",
       "version_major": 2,
       "version_minor": 0
      },
      "text/plain": [
       "Training: 0it [00:00, ?it/s]"
      ]
     },
     "metadata": {},
     "output_type": "display_data"
    },
    {
     "data": {
      "application/vnd.jupyter.widget-view+json": {
       "model_id": "021272e31acc41e1bb9c919b5a608e91",
       "version_major": 2,
       "version_minor": 0
      },
      "text/plain": [
       "Predicting: 16it [00:00, ?it/s]"
      ]
     },
     "metadata": {},
     "output_type": "display_data"
    },
    {
     "data": {
      "application/vnd.jupyter.widget-view+json": {
       "model_id": "ca44cc2167ba424d9fcaa642ddfdccd7",
       "version_major": 2,
       "version_minor": 0
      },
      "text/plain": [
       "Training: 0it [00:00, ?it/s]"
      ]
     },
     "metadata": {},
     "output_type": "display_data"
    },
    {
     "data": {
      "application/vnd.jupyter.widget-view+json": {
       "model_id": "03704e82b98f4b479d7c1f2670b83ebb",
       "version_major": 2,
       "version_minor": 0
      },
      "text/plain": [
       "Predicting: 16it [00:00, ?it/s]"
      ]
     },
     "metadata": {},
     "output_type": "display_data"
    },
    {
     "data": {
      "application/vnd.jupyter.widget-view+json": {
       "model_id": "c55578e8d6a54dfba702f047d2eea696",
       "version_major": 2,
       "version_minor": 0
      },
      "text/plain": [
       "Training: 0it [00:00, ?it/s]"
      ]
     },
     "metadata": {},
     "output_type": "display_data"
    },
    {
     "data": {
      "application/vnd.jupyter.widget-view+json": {
       "model_id": "7f9d58fc3a0f4aae8622a5aece00f708",
       "version_major": 2,
       "version_minor": 0
      },
      "text/plain": [
       "Predicting: 16it [00:00, ?it/s]"
      ]
     },
     "metadata": {},
     "output_type": "display_data"
    },
    {
     "data": {
      "application/vnd.jupyter.widget-view+json": {
       "model_id": "8ec653b61c7249b7bac69be32a3afa59",
       "version_major": 2,
       "version_minor": 0
      },
      "text/plain": [
       "Training: 0it [00:00, ?it/s]"
      ]
     },
     "metadata": {},
     "output_type": "display_data"
    },
    {
     "data": {
      "application/vnd.jupyter.widget-view+json": {
       "model_id": "09aecda12945473f88385352017febfa",
       "version_major": 2,
       "version_minor": 0
      },
      "text/plain": [
       "Predicting: 16it [00:00, ?it/s]"
      ]
     },
     "metadata": {},
     "output_type": "display_data"
    },
    {
     "data": {
      "application/vnd.jupyter.widget-view+json": {
       "model_id": "b23c41f707d44218be378866e96015ac",
       "version_major": 2,
       "version_minor": 0
      },
      "text/plain": [
       "Training: 0it [00:00, ?it/s]"
      ]
     },
     "metadata": {},
     "output_type": "display_data"
    },
    {
     "data": {
      "application/vnd.jupyter.widget-view+json": {
       "model_id": "d944a5712e424c04b90e7c531754e6a4",
       "version_major": 2,
       "version_minor": 0
      },
      "text/plain": [
       "Predicting: 16it [00:00, ?it/s]"
      ]
     },
     "metadata": {},
     "output_type": "display_data"
    }
   ],
   "source": [
    "parameters = {\n",
    "    \"input_chunk_length\" : [7,30,60],\n",
    "    \"output_chunk_length\" : [1], \n",
    "    \"dilation_base\" : [2,3,4],\n",
    "    \"kernel_size\" : [3,4,5],\n",
    "    \"num_filters\" : [2,3,4],\n",
    "    \"dropout\" : [0.1,0.2],\n",
    "    \"torch_device_str\" : [\"cuda\"]\n",
    "    \n",
    "}\n",
    "\n",
    "best_model = model_TCN.gridsearch(parameters=parameters,series=ts_ttrain,val_series=ts_ttest,past_covariates=covF_t,metric=mape,reduction=np.mean)"
   ]
  },
  {
   "cell_type": "code",
   "execution_count": 105,
   "id": "ec9ddb52",
   "metadata": {},
   "outputs": [
    {
     "data": {
      "text/plain": [
       "(<darts.models.forecasting.tcn_model.TCNModel at 0x171d467bcc8>,\n",
       " {'input_chunk_length': 30,\n",
       "  'output_chunk_length': 1,\n",
       "  'dilation_base': 3,\n",
       "  'kernel_size': 5,\n",
       "  'num_filters': 4,\n",
       "  'dropout': 0.1,\n",
       "  'torch_device_str': 'cuda'},\n",
       " 14.766673743724823)"
      ]
     },
     "execution_count": 105,
     "metadata": {},
     "output_type": "execute_result"
    }
   ],
   "source": [
    "best_model"
   ]
  },
  {
   "cell_type": "markdown",
   "id": "e0218d78",
   "metadata": {},
   "source": [
    "The best model has a window of 30 days , dilation base of 3 , kernel size of 5 , 4 filters and a dropout of 0.1. Lets next train a TCN model with these paramters and evalutate its metrics."
   ]
  },
  {
   "cell_type": "markdown",
   "id": "4977f198",
   "metadata": {},
   "source": [
    "Grid search for the NBEATS model is performed below."
   ]
  },
  {
   "cell_type": "code",
   "execution_count": 64,
   "id": "6d5364ab",
   "metadata": {},
   "outputs": [
    {
     "data": {
      "application/vnd.jupyter.widget-view+json": {
       "model_id": "4c94d086f9024e39baa354c45ab9091e",
       "version_major": 2,
       "version_minor": 0
      },
      "text/plain": [
       "Training: 0it [00:00, ?it/s]"
      ]
     },
     "metadata": {},
     "output_type": "display_data"
    },
    {
     "data": {
      "application/vnd.jupyter.widget-view+json": {
       "model_id": "2c69e5ca95264c4093da47634324f74b",
       "version_major": 2,
       "version_minor": 0
      },
      "text/plain": [
       "Predicting: 18it [00:00, ?it/s]"
      ]
     },
     "metadata": {},
     "output_type": "display_data"
    }
   ],
   "source": [
    "parameters = {\n",
    "    \"input_chunk_length\" : [7,30,60],\n",
    "    \"output_chunk_length\" : [1,7], \n",
    "    \"num_stacks\" : [16,32,64],\n",
    "    \"num_blocks\" : [1,2,3],\n",
    "    \"num_layers\" : [4],\n",
    "    \"layer_widths\" : [16,32,64,128,256],\n",
    "    \"torch_device_str\" : [\"cuda\"]    \n",
    "}\n",
    "\n",
    "best_model = NBEATSModel.gridsearch(parameters=parameters,series=ts_ttrain,val_series=ts_ttest,past_covariates=covF_t,metric=mape,reduction=np.mean)"
   ]
  },
  {
   "cell_type": "code",
   "execution_count": 66,
   "id": "3b073dca",
   "metadata": {},
   "outputs": [
    {
     "data": {
      "text/plain": [
       "(<darts.models.forecasting.nbeats.NBEATSModel at 0x17187c48a48>,\n",
       " {'input_chunk_length': 7,\n",
       "  'output_chunk_length': 1,\n",
       "  'num_stacks': 32,\n",
       "  'num_blocks': 1,\n",
       "  'num_layers': 4,\n",
       "  'layer_widths': 16,\n",
       "  'torch_device_str': 'cuda'},\n",
       " 26.609021425247192)"
      ]
     },
     "execution_count": 66,
     "metadata": {},
     "output_type": "execute_result"
    }
   ],
   "source": [
    "best_model"
   ]
  },
  {
   "cell_type": "markdown",
   "id": "dc1b3bcb",
   "metadata": {},
   "source": [
    "the best NBEATS-model has the above parameters. This model has already been trained and hence we will not train it."
   ]
  },
  {
   "cell_type": "code",
   "execution_count": 107,
   "id": "d03d0cb3",
   "metadata": {},
   "outputs": [],
   "source": [
    "#retraining the TCN model with optimal parameters\n",
    "\n",
    "model_TCN_grid_search = TCNModel(\n",
    "        input_chunk_length=30,\n",
    "        output_chunk_length=1, \n",
    "        n_epochs=300,\n",
    "        dropout=0.1,\n",
    "        dilation_base=3,\n",
    "        weight_norm=True,\n",
    "        batch_size=16,\n",
    "        kernel_size=5,\n",
    "        num_filters=4,\n",
    "        optimizer_kwargs={'lr': LEARN},\n",
    "        log_tensorboard=True,\n",
    "        force_reset=True,\n",
    "        random_state=42)"
   ]
  },
  {
   "cell_type": "code",
   "execution_count": 108,
   "id": "1f558327",
   "metadata": {},
   "outputs": [
    {
     "data": {
      "application/vnd.jupyter.widget-view+json": {
       "model_id": "5db2ad57446b4952a9da15f222dc4729",
       "version_major": 2,
       "version_minor": 0
      },
      "text/plain": [
       "Training: 0it [00:00, ?it/s]"
      ]
     },
     "metadata": {},
     "output_type": "display_data"
    },
    {
     "data": {
      "text/plain": [
       "<darts.models.forecasting.tcn_model.TCNModel at 0x171e199dc88>"
      ]
     },
     "execution_count": 108,
     "metadata": {},
     "output_type": "execute_result"
    }
   ],
   "source": [
    "# training: load a saved model or (re)train\n",
    "# training\n",
    "model_TCN_grid_search.fit(  ts_ttrain, \n",
    "            past_covariates=covF_ttrain, \n",
    "            verbose=True)"
   ]
  },
  {
   "cell_type": "code",
   "execution_count": 109,
   "id": "c2d9d5ea",
   "metadata": {},
   "outputs": [],
   "source": [
    "%%capture\n",
    "#Testing our model using historical_forecasts on ts_ttest \n",
    "preds = model_TCN_grid_search.historical_forecasts(\n",
    "    ts_ttest, start=0.3, forecast_horizon=1,past_covariates=covF_ttest,retrain=False\n",
    ")\n",
    "\n",
    "# scale back:\n",
    "preds = scaler.inverse_transform(preds)\n",
    "actual = scaler.inverse_transform(ts_ttest)"
   ]
  },
  {
   "cell_type": "code",
   "execution_count": 110,
   "id": "ad79a1a8",
   "metadata": {},
   "outputs": [
    {
     "data": {
      "text/plain": [
       "Text(0.5, 1.0, 'N-BEATS (window of 7 days), MAPE : 5.41%)')"
      ]
     },
     "execution_count": 110,
     "metadata": {},
     "output_type": "execute_result"
    },
    {
     "data": {
      "image/png": "[encoded data removed]",
      "text/plain": [
       "<Figure size 432x288 with 1 Axes>"
      ]
     },
     "metadata": {
      "needs_background": "light"
     },
     "output_type": "display_data"
    }
   ],
   "source": [
    "#plotting the actual and predicted price values\n",
    "actual.plot(label=\"actual\")\n",
    "preds.plot(label=\"predicted\")\n",
    "plt.title(\"N-BEATS (window of 7 days), MAPE : {:.2f}%)\".format(mape(actual,preds)))"
   ]
  },
  {
   "cell_type": "markdown",
   "id": "7723300b",
   "metadata": {},
   "source": [
    "### Issues / Improvements\n",
    "1. A more rigerous grid search for time series forecasting of these models"
   ]
  },
  {
   "cell_type": "markdown",
   "id": "efca3fe6",
   "metadata": {},
   "source": [
    "#Credits\n",
    "\n",
    "1. https://unit8co.github.io/darts/README.html\n",
    "2. https://towardsdatascience.com/n-beats-unleashed-deep-forecasting-using-neural-basis-expansion-analysis-in-python-343dd6307010"
   ]
  },
  {
   "cell_type": "markdown",
   "id": "affc5e06",
   "metadata": {},
   "source": [
    "In summary the state-of-the-art models do a good job of forecasting the price of bitcoin."
   ]
  }
 ],
 "metadata": {
  "kernelspec": {
   "display_name": "Python 3",
   "language": "python",
   "name": "python3"
  },
  "language_info": {
   "codemirror_mode": {
    "name": "ipython",
    "version": 3
   },
   "file_extension": ".py",
   "mimetype": "text/x-python",
   "name": "python",
   "nbconvert_exporter": "python",
   "pygments_lexer": "ipython3",
   "version": "3.8.8"
  }
 },
 "nbformat": 4,
 "nbformat_minor": 5
}
